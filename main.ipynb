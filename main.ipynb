{
 "cells": [
  {
   "cell_type": "markdown",
   "id": "2250fdcb",
   "metadata": {
    "vscode": {
     "languageId": "plaintext"
    }
   },
   "source": [
    "# Customer Churn Prediction Analysis "
   ]
  },
  {
   "cell_type": "code",
   "execution_count": 711,
   "id": "4cd45678",
   "metadata": {},
   "outputs": [],
   "source": [
    "import pandas as pd\n",
    "import seaborn as sns\n",
    "import numpy as np \n",
    "import matplotlib.pyplot as plt\n",
    "\n",
    "from sklearn.model_selection import train_test_split, GridSearchCV\n",
    "from sklearn.preprocessing import StandardScaler\n",
    "from sklearn.svm import SVC\n",
    "from sklearn.metrics import accuracy_score, classification_report, confusion_matrix, ConfusionMatrixDisplay, roc_curve, auc\n",
    "\n",
    "from sklearn.linear_model import LogisticRegression\n",
    "from sklearn.ensemble import RandomForestClassifier\n",
    "from sklearn.neighbors import KNeighborsClassifier\n",
    "from sklearn.tree import DecisionTreeClassifier\n",
    "import seaborn as sns\n",
    "\n",
    "import joblib\n",
    "\n",
    "import warnings \n",
    "warnings.filterwarnings(\"ignore\")\n",
    "\n",
    "from imblearn.over_sampling import SMOTE\n",
    "from xgboost import XGBClassifier"
   ]
  },
  {
   "cell_type": "markdown",
   "id": "ba3f8f10",
   "metadata": {},
   "source": [
    "## Loading the data"
   ]
  },
  {
   "cell_type": "code",
   "execution_count": 712,
   "id": "314cc7e7",
   "metadata": {},
   "outputs": [
    {
     "data": {
      "application/vnd.microsoft.datawrangler.viewer.v0+json": {
       "columns": [
        {
         "name": "index",
         "rawType": "int64",
         "type": "integer"
        },
        {
         "name": "CustomerID",
         "rawType": "int64",
         "type": "integer"
        },
        {
         "name": "Age",
         "rawType": "int64",
         "type": "integer"
        },
        {
         "name": "Gender",
         "rawType": "object",
         "type": "string"
        },
        {
         "name": "Tenure",
         "rawType": "int64",
         "type": "integer"
        },
        {
         "name": "MonthlyCharges",
         "rawType": "float64",
         "type": "float"
        },
        {
         "name": "ContractType",
         "rawType": "object",
         "type": "string"
        },
        {
         "name": "InternetService",
         "rawType": "object",
         "type": "unknown"
        },
        {
         "name": "TotalCharges",
         "rawType": "float64",
         "type": "float"
        },
        {
         "name": "TechSupport",
         "rawType": "object",
         "type": "string"
        },
        {
         "name": "Churn",
         "rawType": "object",
         "type": "string"
        }
       ],
       "ref": "87376bcc-898d-4a00-8974-841e7a84b977",
       "rows": [
        [
         "0",
         "1",
         "49",
         "Male",
         "4",
         "88.35",
         "Month-to-Month",
         "Fiber Optic",
         "353.4",
         "Yes",
         "Yes"
        ],
        [
         "1",
         "2",
         "43",
         "Male",
         "0",
         "36.67",
         "Month-to-Month",
         "Fiber Optic",
         "0.0",
         "Yes",
         "Yes"
        ],
        [
         "2",
         "3",
         "51",
         "Female",
         "2",
         "63.79",
         "Month-to-Month",
         "Fiber Optic",
         "127.58",
         "No",
         "Yes"
        ],
        [
         "3",
         "4",
         "60",
         "Female",
         "8",
         "102.34",
         "One-Year",
         "DSL",
         "818.72",
         "Yes",
         "Yes"
        ],
        [
         "4",
         "5",
         "42",
         "Male",
         "32",
         "69.01",
         "Month-to-Month",
         null,
         "2208.32",
         "No",
         "Yes"
        ],
        [
         "5",
         "6",
         "42",
         "Female",
         "16",
         "119.75",
         "Two-Year",
         "DSL",
         "1916.0",
         "Yes",
         "Yes"
        ],
        [
         "6",
         "7",
         "60",
         "Male",
         "14",
         "80.32",
         "One-Year",
         null,
         "1124.48",
         "No",
         "Yes"
        ],
        [
         "7",
         "8",
         "52",
         "Female",
         "6",
         "58.9",
         "One-Year",
         null,
         "353.4",
         "No",
         "Yes"
        ],
        [
         "8",
         "9",
         "40",
         "Female",
         "53",
         "49.81",
         "Two-Year",
         "Fiber Optic",
         "2639.9300000000003",
         "Yes",
         "No"
        ],
        [
         "9",
         "10",
         "50",
         "Female",
         "10",
         "61.55",
         "Month-to-Month",
         "Fiber Optic",
         "615.5",
         "Yes",
         "Yes"
        ],
        [
         "10",
         "11",
         "40",
         "Female",
         "1",
         "63.53",
         "Month-to-Month",
         "Fiber Optic",
         "63.53",
         "Yes",
         "Yes"
        ],
        [
         "11",
         "12",
         "40",
         "Female",
         "19",
         "36.18",
         "One-Year",
         "Fiber Optic",
         "687.42",
         "Yes",
         "No"
        ],
        [
         "12",
         "13",
         "47",
         "Male",
         "2",
         "63.26",
         "Two-Year",
         null,
         "126.52",
         "No",
         "Yes"
        ],
        [
         "13",
         "14",
         "25",
         "Female",
         "8",
         "71.78",
         "One-Year",
         null,
         "574.24",
         "No",
         "Yes"
        ],
        [
         "14",
         "15",
         "27",
         "Male",
         "14",
         "95.05",
         "Month-to-Month",
         "Fiber Optic",
         "1330.7",
         "Yes",
         "Yes"
        ],
        [
         "15",
         "16",
         "39",
         "Female",
         "41",
         "89.11",
         "Two-Year",
         "Fiber Optic",
         "3653.51",
         "Yes",
         "No"
        ],
        [
         "16",
         "17",
         "34",
         "Female",
         "13",
         "93.79",
         "Month-to-Month",
         null,
         "1219.27",
         "No",
         "Yes"
        ],
        [
         "17",
         "18",
         "48",
         "Female",
         "24",
         "30.75",
         "Two-Year",
         null,
         "738.0",
         "No",
         "Yes"
        ],
        [
         "18",
         "19",
         "35",
         "Male",
         "98",
         "49.59",
         "Two-Year",
         "Fiber Optic",
         "4859.820000000001",
         "Yes",
         "No"
        ],
        [
         "19",
         "20",
         "30",
         "Female",
         "2",
         "89.55",
         "Month-to-Month",
         "Fiber Optic",
         "179.1",
         "No",
         "Yes"
        ],
        [
         "20",
         "21",
         "59",
         "Female",
         "6",
         "73.56",
         "One-Year",
         "DSL",
         "441.36",
         "No",
         "Yes"
        ],
        [
         "21",
         "22",
         "42",
         "Female",
         "10",
         "30.48",
         "Month-to-Month",
         null,
         "304.8",
         "No",
         "Yes"
        ],
        [
         "22",
         "23",
         "45",
         "Male",
         "10",
         "102.4",
         "Month-to-Month",
         "DSL",
         "1024.0",
         "Yes",
         "Yes"
        ],
        [
         "23",
         "24",
         "30",
         "Male",
         "10",
         "99.55",
         "One-Year",
         "Fiber Optic",
         "995.5",
         "Yes",
         "Yes"
        ],
        [
         "24",
         "25",
         "39",
         "Male",
         "47",
         "79.36",
         "One-Year",
         "DSL",
         "3729.92",
         "Yes",
         "No"
        ],
        [
         "25",
         "26",
         "46",
         "Male",
         "25",
         "35.98",
         "Two-Year",
         "DSL",
         "899.4999999999999",
         "Yes",
         "No"
        ],
        [
         "26",
         "27",
         "33",
         "Female",
         "18",
         "98.99",
         "One-Year",
         "Fiber Optic",
         "1781.82",
         "Yes",
         "No"
        ],
        [
         "27",
         "28",
         "48",
         "Male",
         "7",
         "82.53",
         "Month-to-Month",
         null,
         "577.71",
         "No",
         "Yes"
        ],
        [
         "28",
         "29",
         "38",
         "Female",
         "34",
         "100.38",
         "Two-Year",
         "DSL",
         "3412.92",
         "Yes",
         "Yes"
        ],
        [
         "29",
         "30",
         "42",
         "Male",
         "62",
         "97.66",
         "Two-Year",
         "Fiber Optic",
         "6054.92",
         "Yes",
         "No"
        ],
        [
         "30",
         "31",
         "38",
         "Male",
         "34",
         "102.27",
         "Month-to-Month",
         "DSL",
         "3477.18",
         "No",
         "Yes"
        ],
        [
         "31",
         "32",
         "63",
         "Female",
         "0",
         "76.62",
         "Two-Year",
         "DSL",
         "0.0",
         "Yes",
         "Yes"
        ],
        [
         "32",
         "33",
         "44",
         "Female",
         "20",
         "42.63",
         "Month-to-Month",
         "Fiber Optic",
         "852.6",
         "Yes",
         "Yes"
        ],
        [
         "33",
         "34",
         "34",
         "Female",
         "1",
         "90.4",
         "Two-Year",
         "Fiber Optic",
         "90.4",
         "Yes",
         "Yes"
        ],
        [
         "34",
         "35",
         "53",
         "Female",
         "5",
         "85.84",
         "Month-to-Month",
         "DSL",
         "429.2000000000001",
         "Yes",
         "Yes"
        ],
        [
         "35",
         "36",
         "32",
         "Female",
         "1",
         "96.8",
         "Month-to-Month",
         "Fiber Optic",
         "96.8",
         "No",
         "Yes"
        ],
        [
         "36",
         "37",
         "47",
         "Male",
         "18",
         "45.29",
         "Month-to-Month",
         "DSL",
         "815.22",
         "Yes",
         "Yes"
        ],
        [
         "37",
         "38",
         "25",
         "Female",
         "23",
         "47.55",
         "One-Year",
         "Fiber Optic",
         "1093.65",
         "Yes",
         "No"
        ],
        [
         "38",
         "39",
         "31",
         "Female",
         "2",
         "110.14",
         "Month-to-Month",
         null,
         "220.28",
         "No",
         "Yes"
        ],
        [
         "39",
         "40",
         "46",
         "Female",
         "9",
         "97.5",
         "Month-to-Month",
         null,
         "877.5",
         "No",
         "Yes"
        ],
        [
         "40",
         "41",
         "52",
         "Male",
         "12",
         "111.74",
         "One-Year",
         "Fiber Optic",
         "1340.88",
         "Yes",
         "Yes"
        ],
        [
         "41",
         "42",
         "46",
         "Female",
         "9",
         "98.28",
         "Two-Year",
         "Fiber Optic",
         "884.52",
         "Yes",
         "Yes"
        ],
        [
         "42",
         "43",
         "43",
         "Male",
         "2",
         "83.74",
         "Month-to-Month",
         null,
         "167.48",
         "No",
         "Yes"
        ],
        [
         "43",
         "44",
         "41",
         "Male",
         "10",
         "88.87",
         "Month-to-Month",
         "DSL",
         "888.7",
         "Yes",
         "Yes"
        ],
        [
         "44",
         "45",
         "30",
         "Male",
         "27",
         "110.02",
         "Month-to-Month",
         null,
         "2970.54",
         "No",
         "Yes"
        ],
        [
         "45",
         "46",
         "37",
         "Male",
         "1",
         "82.09",
         "Month-to-Month",
         null,
         "82.09",
         "No",
         "Yes"
        ],
        [
         "46",
         "47",
         "40",
         "Female",
         "1",
         "86.92",
         "Two-Year",
         "DSL",
         "86.92",
         "Yes",
         "Yes"
        ],
        [
         "47",
         "48",
         "55",
         "Female",
         "8",
         "44.08",
         "Two-Year",
         "DSL",
         "352.64",
         "No",
         "Yes"
        ],
        [
         "48",
         "49",
         "48",
         "Female",
         "56",
         "72.65",
         "One-Year",
         null,
         "4068.400000000001",
         "No",
         "Yes"
        ],
        [
         "49",
         "50",
         "27",
         "Male",
         "22",
         "94.48",
         "Month-to-Month",
         "Fiber Optic",
         "2078.56",
         "Yes",
         "Yes"
        ]
       ],
       "shape": {
        "columns": 10,
        "rows": 1000
       }
      },
      "text/html": [
       "<div>\n",
       "<style scoped>\n",
       "    .dataframe tbody tr th:only-of-type {\n",
       "        vertical-align: middle;\n",
       "    }\n",
       "\n",
       "    .dataframe tbody tr th {\n",
       "        vertical-align: top;\n",
       "    }\n",
       "\n",
       "    .dataframe thead th {\n",
       "        text-align: right;\n",
       "    }\n",
       "</style>\n",
       "<table border=\"1\" class=\"dataframe\">\n",
       "  <thead>\n",
       "    <tr style=\"text-align: right;\">\n",
       "      <th></th>\n",
       "      <th>CustomerID</th>\n",
       "      <th>Age</th>\n",
       "      <th>Gender</th>\n",
       "      <th>Tenure</th>\n",
       "      <th>MonthlyCharges</th>\n",
       "      <th>ContractType</th>\n",
       "      <th>InternetService</th>\n",
       "      <th>TotalCharges</th>\n",
       "      <th>TechSupport</th>\n",
       "      <th>Churn</th>\n",
       "    </tr>\n",
       "  </thead>\n",
       "  <tbody>\n",
       "    <tr>\n",
       "      <th>0</th>\n",
       "      <td>1</td>\n",
       "      <td>49</td>\n",
       "      <td>Male</td>\n",
       "      <td>4</td>\n",
       "      <td>88.35</td>\n",
       "      <td>Month-to-Month</td>\n",
       "      <td>Fiber Optic</td>\n",
       "      <td>353.40</td>\n",
       "      <td>Yes</td>\n",
       "      <td>Yes</td>\n",
       "    </tr>\n",
       "    <tr>\n",
       "      <th>1</th>\n",
       "      <td>2</td>\n",
       "      <td>43</td>\n",
       "      <td>Male</td>\n",
       "      <td>0</td>\n",
       "      <td>36.67</td>\n",
       "      <td>Month-to-Month</td>\n",
       "      <td>Fiber Optic</td>\n",
       "      <td>0.00</td>\n",
       "      <td>Yes</td>\n",
       "      <td>Yes</td>\n",
       "    </tr>\n",
       "    <tr>\n",
       "      <th>2</th>\n",
       "      <td>3</td>\n",
       "      <td>51</td>\n",
       "      <td>Female</td>\n",
       "      <td>2</td>\n",
       "      <td>63.79</td>\n",
       "      <td>Month-to-Month</td>\n",
       "      <td>Fiber Optic</td>\n",
       "      <td>127.58</td>\n",
       "      <td>No</td>\n",
       "      <td>Yes</td>\n",
       "    </tr>\n",
       "    <tr>\n",
       "      <th>3</th>\n",
       "      <td>4</td>\n",
       "      <td>60</td>\n",
       "      <td>Female</td>\n",
       "      <td>8</td>\n",
       "      <td>102.34</td>\n",
       "      <td>One-Year</td>\n",
       "      <td>DSL</td>\n",
       "      <td>818.72</td>\n",
       "      <td>Yes</td>\n",
       "      <td>Yes</td>\n",
       "    </tr>\n",
       "    <tr>\n",
       "      <th>4</th>\n",
       "      <td>5</td>\n",
       "      <td>42</td>\n",
       "      <td>Male</td>\n",
       "      <td>32</td>\n",
       "      <td>69.01</td>\n",
       "      <td>Month-to-Month</td>\n",
       "      <td>NaN</td>\n",
       "      <td>2208.32</td>\n",
       "      <td>No</td>\n",
       "      <td>Yes</td>\n",
       "    </tr>\n",
       "    <tr>\n",
       "      <th>...</th>\n",
       "      <td>...</td>\n",
       "      <td>...</td>\n",
       "      <td>...</td>\n",
       "      <td>...</td>\n",
       "      <td>...</td>\n",
       "      <td>...</td>\n",
       "      <td>...</td>\n",
       "      <td>...</td>\n",
       "      <td>...</td>\n",
       "      <td>...</td>\n",
       "    </tr>\n",
       "    <tr>\n",
       "      <th>995</th>\n",
       "      <td>996</td>\n",
       "      <td>42</td>\n",
       "      <td>Male</td>\n",
       "      <td>41</td>\n",
       "      <td>37.14</td>\n",
       "      <td>Month-to-Month</td>\n",
       "      <td>Fiber Optic</td>\n",
       "      <td>1522.74</td>\n",
       "      <td>Yes</td>\n",
       "      <td>Yes</td>\n",
       "    </tr>\n",
       "    <tr>\n",
       "      <th>996</th>\n",
       "      <td>997</td>\n",
       "      <td>62</td>\n",
       "      <td>Male</td>\n",
       "      <td>9</td>\n",
       "      <td>80.93</td>\n",
       "      <td>Month-to-Month</td>\n",
       "      <td>NaN</td>\n",
       "      <td>728.37</td>\n",
       "      <td>No</td>\n",
       "      <td>Yes</td>\n",
       "    </tr>\n",
       "    <tr>\n",
       "      <th>997</th>\n",
       "      <td>998</td>\n",
       "      <td>51</td>\n",
       "      <td>Female</td>\n",
       "      <td>15</td>\n",
       "      <td>111.72</td>\n",
       "      <td>Month-to-Month</td>\n",
       "      <td>Fiber Optic</td>\n",
       "      <td>1675.80</td>\n",
       "      <td>Yes</td>\n",
       "      <td>Yes</td>\n",
       "    </tr>\n",
       "    <tr>\n",
       "      <th>998</th>\n",
       "      <td>999</td>\n",
       "      <td>39</td>\n",
       "      <td>Male</td>\n",
       "      <td>68</td>\n",
       "      <td>65.67</td>\n",
       "      <td>One-Year</td>\n",
       "      <td>NaN</td>\n",
       "      <td>4465.56</td>\n",
       "      <td>No</td>\n",
       "      <td>Yes</td>\n",
       "    </tr>\n",
       "    <tr>\n",
       "      <th>999</th>\n",
       "      <td>1000</td>\n",
       "      <td>50</td>\n",
       "      <td>Male</td>\n",
       "      <td>1</td>\n",
       "      <td>56.67</td>\n",
       "      <td>Month-to-Month</td>\n",
       "      <td>NaN</td>\n",
       "      <td>56.67</td>\n",
       "      <td>No</td>\n",
       "      <td>Yes</td>\n",
       "    </tr>\n",
       "  </tbody>\n",
       "</table>\n",
       "<p>1000 rows × 10 columns</p>\n",
       "</div>"
      ],
      "text/plain": [
       "     CustomerID  Age  Gender  Tenure  MonthlyCharges    ContractType  \\\n",
       "0             1   49    Male       4           88.35  Month-to-Month   \n",
       "1             2   43    Male       0           36.67  Month-to-Month   \n",
       "2             3   51  Female       2           63.79  Month-to-Month   \n",
       "3             4   60  Female       8          102.34        One-Year   \n",
       "4             5   42    Male      32           69.01  Month-to-Month   \n",
       "..          ...  ...     ...     ...             ...             ...   \n",
       "995         996   42    Male      41           37.14  Month-to-Month   \n",
       "996         997   62    Male       9           80.93  Month-to-Month   \n",
       "997         998   51  Female      15          111.72  Month-to-Month   \n",
       "998         999   39    Male      68           65.67        One-Year   \n",
       "999        1000   50    Male       1           56.67  Month-to-Month   \n",
       "\n",
       "    InternetService  TotalCharges TechSupport Churn  \n",
       "0       Fiber Optic        353.40         Yes   Yes  \n",
       "1       Fiber Optic          0.00         Yes   Yes  \n",
       "2       Fiber Optic        127.58          No   Yes  \n",
       "3               DSL        818.72         Yes   Yes  \n",
       "4               NaN       2208.32          No   Yes  \n",
       "..              ...           ...         ...   ...  \n",
       "995     Fiber Optic       1522.74         Yes   Yes  \n",
       "996             NaN        728.37          No   Yes  \n",
       "997     Fiber Optic       1675.80         Yes   Yes  \n",
       "998             NaN       4465.56          No   Yes  \n",
       "999             NaN         56.67          No   Yes  \n",
       "\n",
       "[1000 rows x 10 columns]"
      ]
     },
     "execution_count": 712,
     "metadata": {},
     "output_type": "execute_result"
    }
   ],
   "source": [
    "# Path to the dataset\n",
    "df = pd.read_csv(\"customer_churn_data.csv\")\n",
    "df"
   ]
  },
  {
   "cell_type": "code",
   "execution_count": 713,
   "id": "0e24329c",
   "metadata": {},
   "outputs": [
    {
     "data": {
      "application/vnd.microsoft.datawrangler.viewer.v0+json": {
       "columns": [
        {
         "name": "index",
         "rawType": "int64",
         "type": "integer"
        },
        {
         "name": "CustomerID",
         "rawType": "int64",
         "type": "integer"
        },
        {
         "name": "Age",
         "rawType": "int64",
         "type": "integer"
        },
        {
         "name": "Gender",
         "rawType": "object",
         "type": "string"
        },
        {
         "name": "Tenure",
         "rawType": "int64",
         "type": "integer"
        },
        {
         "name": "MonthlyCharges",
         "rawType": "float64",
         "type": "float"
        },
        {
         "name": "ContractType",
         "rawType": "object",
         "type": "string"
        },
        {
         "name": "InternetService",
         "rawType": "object",
         "type": "unknown"
        },
        {
         "name": "TotalCharges",
         "rawType": "float64",
         "type": "float"
        },
        {
         "name": "TechSupport",
         "rawType": "object",
         "type": "string"
        },
        {
         "name": "Churn",
         "rawType": "object",
         "type": "string"
        }
       ],
       "ref": "0a456539-3a81-4aad-95de-5757c2504f29",
       "rows": [
        [
         "0",
         "1",
         "49",
         "Male",
         "4",
         "88.35",
         "Month-to-Month",
         "Fiber Optic",
         "353.4",
         "Yes",
         "Yes"
        ],
        [
         "1",
         "2",
         "43",
         "Male",
         "0",
         "36.67",
         "Month-to-Month",
         "Fiber Optic",
         "0.0",
         "Yes",
         "Yes"
        ],
        [
         "2",
         "3",
         "51",
         "Female",
         "2",
         "63.79",
         "Month-to-Month",
         "Fiber Optic",
         "127.58",
         "No",
         "Yes"
        ],
        [
         "3",
         "4",
         "60",
         "Female",
         "8",
         "102.34",
         "One-Year",
         "DSL",
         "818.72",
         "Yes",
         "Yes"
        ],
        [
         "4",
         "5",
         "42",
         "Male",
         "32",
         "69.01",
         "Month-to-Month",
         null,
         "2208.32",
         "No",
         "Yes"
        ]
       ],
       "shape": {
        "columns": 10,
        "rows": 5
       }
      },
      "text/html": [
       "<div>\n",
       "<style scoped>\n",
       "    .dataframe tbody tr th:only-of-type {\n",
       "        vertical-align: middle;\n",
       "    }\n",
       "\n",
       "    .dataframe tbody tr th {\n",
       "        vertical-align: top;\n",
       "    }\n",
       "\n",
       "    .dataframe thead th {\n",
       "        text-align: right;\n",
       "    }\n",
       "</style>\n",
       "<table border=\"1\" class=\"dataframe\">\n",
       "  <thead>\n",
       "    <tr style=\"text-align: right;\">\n",
       "      <th></th>\n",
       "      <th>CustomerID</th>\n",
       "      <th>Age</th>\n",
       "      <th>Gender</th>\n",
       "      <th>Tenure</th>\n",
       "      <th>MonthlyCharges</th>\n",
       "      <th>ContractType</th>\n",
       "      <th>InternetService</th>\n",
       "      <th>TotalCharges</th>\n",
       "      <th>TechSupport</th>\n",
       "      <th>Churn</th>\n",
       "    </tr>\n",
       "  </thead>\n",
       "  <tbody>\n",
       "    <tr>\n",
       "      <th>0</th>\n",
       "      <td>1</td>\n",
       "      <td>49</td>\n",
       "      <td>Male</td>\n",
       "      <td>4</td>\n",
       "      <td>88.35</td>\n",
       "      <td>Month-to-Month</td>\n",
       "      <td>Fiber Optic</td>\n",
       "      <td>353.40</td>\n",
       "      <td>Yes</td>\n",
       "      <td>Yes</td>\n",
       "    </tr>\n",
       "    <tr>\n",
       "      <th>1</th>\n",
       "      <td>2</td>\n",
       "      <td>43</td>\n",
       "      <td>Male</td>\n",
       "      <td>0</td>\n",
       "      <td>36.67</td>\n",
       "      <td>Month-to-Month</td>\n",
       "      <td>Fiber Optic</td>\n",
       "      <td>0.00</td>\n",
       "      <td>Yes</td>\n",
       "      <td>Yes</td>\n",
       "    </tr>\n",
       "    <tr>\n",
       "      <th>2</th>\n",
       "      <td>3</td>\n",
       "      <td>51</td>\n",
       "      <td>Female</td>\n",
       "      <td>2</td>\n",
       "      <td>63.79</td>\n",
       "      <td>Month-to-Month</td>\n",
       "      <td>Fiber Optic</td>\n",
       "      <td>127.58</td>\n",
       "      <td>No</td>\n",
       "      <td>Yes</td>\n",
       "    </tr>\n",
       "    <tr>\n",
       "      <th>3</th>\n",
       "      <td>4</td>\n",
       "      <td>60</td>\n",
       "      <td>Female</td>\n",
       "      <td>8</td>\n",
       "      <td>102.34</td>\n",
       "      <td>One-Year</td>\n",
       "      <td>DSL</td>\n",
       "      <td>818.72</td>\n",
       "      <td>Yes</td>\n",
       "      <td>Yes</td>\n",
       "    </tr>\n",
       "    <tr>\n",
       "      <th>4</th>\n",
       "      <td>5</td>\n",
       "      <td>42</td>\n",
       "      <td>Male</td>\n",
       "      <td>32</td>\n",
       "      <td>69.01</td>\n",
       "      <td>Month-to-Month</td>\n",
       "      <td>NaN</td>\n",
       "      <td>2208.32</td>\n",
       "      <td>No</td>\n",
       "      <td>Yes</td>\n",
       "    </tr>\n",
       "  </tbody>\n",
       "</table>\n",
       "</div>"
      ],
      "text/plain": [
       "   CustomerID  Age  Gender  Tenure  MonthlyCharges    ContractType  \\\n",
       "0           1   49    Male       4           88.35  Month-to-Month   \n",
       "1           2   43    Male       0           36.67  Month-to-Month   \n",
       "2           3   51  Female       2           63.79  Month-to-Month   \n",
       "3           4   60  Female       8          102.34        One-Year   \n",
       "4           5   42    Male      32           69.01  Month-to-Month   \n",
       "\n",
       "  InternetService  TotalCharges TechSupport Churn  \n",
       "0     Fiber Optic        353.40         Yes   Yes  \n",
       "1     Fiber Optic          0.00         Yes   Yes  \n",
       "2     Fiber Optic        127.58          No   Yes  \n",
       "3             DSL        818.72         Yes   Yes  \n",
       "4             NaN       2208.32          No   Yes  "
      ]
     },
     "execution_count": 713,
     "metadata": {},
     "output_type": "execute_result"
    }
   ],
   "source": [
    "df.head()"
   ]
  },
  {
   "cell_type": "code",
   "execution_count": 714,
   "id": "ce410b47",
   "metadata": {},
   "outputs": [
    {
     "data": {
      "application/vnd.microsoft.datawrangler.viewer.v0+json": {
       "columns": [
        {
         "name": "index",
         "rawType": "int64",
         "type": "integer"
        },
        {
         "name": "CustomerID",
         "rawType": "int64",
         "type": "integer"
        },
        {
         "name": "Age",
         "rawType": "int64",
         "type": "integer"
        },
        {
         "name": "Gender",
         "rawType": "object",
         "type": "string"
        },
        {
         "name": "Tenure",
         "rawType": "int64",
         "type": "integer"
        },
        {
         "name": "MonthlyCharges",
         "rawType": "float64",
         "type": "float"
        },
        {
         "name": "ContractType",
         "rawType": "object",
         "type": "string"
        },
        {
         "name": "InternetService",
         "rawType": "object",
         "type": "string"
        },
        {
         "name": "TotalCharges",
         "rawType": "float64",
         "type": "float"
        },
        {
         "name": "TechSupport",
         "rawType": "object",
         "type": "string"
        },
        {
         "name": "Churn",
         "rawType": "object",
         "type": "string"
        }
       ],
       "ref": "692e32d3-303c-4b9e-99df-6130779a4879",
       "rows": [
        [
         "8",
         "9",
         "40",
         "Female",
         "53",
         "49.81",
         "Two-Year",
         "Fiber Optic",
         "2639.9300000000003",
         "Yes",
         "No"
        ],
        [
         "11",
         "12",
         "40",
         "Female",
         "19",
         "36.18",
         "One-Year",
         "Fiber Optic",
         "687.42",
         "Yes",
         "No"
        ],
        [
         "15",
         "16",
         "39",
         "Female",
         "41",
         "89.11",
         "Two-Year",
         "Fiber Optic",
         "3653.51",
         "Yes",
         "No"
        ],
        [
         "18",
         "19",
         "35",
         "Male",
         "98",
         "49.59",
         "Two-Year",
         "Fiber Optic",
         "4859.820000000001",
         "Yes",
         "No"
        ],
        [
         "24",
         "25",
         "39",
         "Male",
         "47",
         "79.36",
         "One-Year",
         "DSL",
         "3729.92",
         "Yes",
         "No"
        ],
        [
         "25",
         "26",
         "46",
         "Male",
         "25",
         "35.98",
         "Two-Year",
         "DSL",
         "899.4999999999999",
         "Yes",
         "No"
        ],
        [
         "26",
         "27",
         "33",
         "Female",
         "18",
         "98.99",
         "One-Year",
         "Fiber Optic",
         "1781.82",
         "Yes",
         "No"
        ],
        [
         "29",
         "30",
         "42",
         "Male",
         "62",
         "97.66",
         "Two-Year",
         "Fiber Optic",
         "6054.92",
         "Yes",
         "No"
        ],
        [
         "37",
         "38",
         "25",
         "Female",
         "23",
         "47.55",
         "One-Year",
         "Fiber Optic",
         "1093.65",
         "Yes",
         "No"
        ],
        [
         "50",
         "51",
         "48",
         "Male",
         "22",
         "54.38",
         "One-Year",
         "DSL",
         "1196.36",
         "Yes",
         "No"
        ],
        [
         "52",
         "53",
         "38",
         "Female",
         "18",
         "58.24",
         "Two-Year",
         "Fiber Optic",
         "1048.32",
         "Yes",
         "No"
        ],
        [
         "57",
         "58",
         "41",
         "Female",
         "41",
         "75.64",
         "Two-Year",
         "Fiber Optic",
         "3101.24",
         "Yes",
         "No"
        ],
        [
         "67",
         "68",
         "55",
         "Female",
         "13",
         "53.77",
         "One-Year",
         "Fiber Optic",
         "699.01",
         "Yes",
         "No"
        ],
        [
         "86",
         "87",
         "54",
         "Female",
         "49",
         "32.8",
         "One-Year",
         "DSL",
         "1607.1999999999998",
         "Yes",
         "No"
        ],
        [
         "108",
         "109",
         "47",
         "Female",
         "22",
         "97.34",
         "Two-Year",
         "Fiber Optic",
         "2141.48",
         "Yes",
         "No"
        ],
        [
         "127",
         "128",
         "39",
         "Male",
         "12",
         "33.5",
         "One-Year",
         "Fiber Optic",
         "402.0",
         "Yes",
         "No"
        ],
        [
         "144",
         "145",
         "47",
         "Female",
         "16",
         "60.77",
         "Two-Year",
         "Fiber Optic",
         "972.32",
         "Yes",
         "No"
        ],
        [
         "145",
         "146",
         "52",
         "Male",
         "15",
         "77.49",
         "Two-Year",
         "DSL",
         "1162.35",
         "Yes",
         "No"
        ],
        [
         "156",
         "157",
         "63",
         "Female",
         "16",
         "90.98",
         "Two-Year",
         "DSL",
         "1455.68",
         "Yes",
         "No"
        ],
        [
         "165",
         "166",
         "49",
         "Female",
         "42",
         "44.06",
         "One-Year",
         "DSL",
         "1850.52",
         "Yes",
         "No"
        ],
        [
         "183",
         "184",
         "49",
         "Male",
         "31",
         "66.17",
         "One-Year",
         "Fiber Optic",
         "2051.27",
         "Yes",
         "No"
        ],
        [
         "186",
         "187",
         "49",
         "Female",
         "57",
         "54.93",
         "One-Year",
         "Fiber Optic",
         "3131.01",
         "Yes",
         "No"
        ],
        [
         "192",
         "193",
         "47",
         "Male",
         "17",
         "32.86",
         "One-Year",
         "Fiber Optic",
         "558.62",
         "Yes",
         "No"
        ],
        [
         "199",
         "200",
         "33",
         "Female",
         "13",
         "49.01",
         "One-Year",
         "Fiber Optic",
         "637.13",
         "Yes",
         "No"
        ],
        [
         "204",
         "205",
         "31",
         "Female",
         "35",
         "55.79",
         "One-Year",
         "Fiber Optic",
         "1952.65",
         "Yes",
         "No"
        ],
        [
         "213",
         "214",
         "51",
         "Female",
         "44",
         "35.62",
         "Two-Year",
         "Fiber Optic",
         "1567.28",
         "Yes",
         "No"
        ],
        [
         "228",
         "229",
         "37",
         "Female",
         "32",
         "45.07",
         "Two-Year",
         "Fiber Optic",
         "1442.24",
         "Yes",
         "No"
        ],
        [
         "238",
         "239",
         "38",
         "Male",
         "26",
         "50.93",
         "One-Year",
         "DSL",
         "1324.18",
         "Yes",
         "No"
        ],
        [
         "239",
         "240",
         "53",
         "Male",
         "35",
         "41.67",
         "One-Year",
         "DSL",
         "1458.45",
         "Yes",
         "No"
        ],
        [
         "249",
         "250",
         "49",
         "Female",
         "13",
         "43.94",
         "Two-Year",
         "DSL",
         "571.22",
         "Yes",
         "No"
        ],
        [
         "257",
         "258",
         "37",
         "Female",
         "59",
         "75.5",
         "Two-Year",
         "Fiber Optic",
         "4454.5",
         "Yes",
         "No"
        ],
        [
         "260",
         "261",
         "35",
         "Female",
         "14",
         "54.63",
         "One-Year",
         "DSL",
         "764.82",
         "Yes",
         "No"
        ],
        [
         "264",
         "265",
         "42",
         "Male",
         "31",
         "57.58",
         "One-Year",
         "Fiber Optic",
         "1784.98",
         "Yes",
         "No"
        ],
        [
         "275",
         "276",
         "49",
         "Male",
         "47",
         "78.42",
         "One-Year",
         "DSL",
         "3685.74",
         "Yes",
         "No"
        ],
        [
         "283",
         "284",
         "32",
         "Female",
         "20",
         "74.33",
         "One-Year",
         "Fiber Optic",
         "1486.6",
         "Yes",
         "No"
        ],
        [
         "288",
         "289",
         "47",
         "Female",
         "17",
         "66.61",
         "One-Year",
         "Fiber Optic",
         "1132.37",
         "Yes",
         "No"
        ],
        [
         "289",
         "290",
         "38",
         "Male",
         "19",
         "59.54",
         "Two-Year",
         "DSL",
         "1131.26",
         "Yes",
         "No"
        ],
        [
         "296",
         "297",
         "53",
         "Male",
         "16",
         "81.1",
         "One-Year",
         "DSL",
         "1297.6",
         "Yes",
         "No"
        ],
        [
         "299",
         "300",
         "51",
         "Female",
         "29",
         "88.03",
         "One-Year",
         "Fiber Optic",
         "2552.87",
         "Yes",
         "No"
        ],
        [
         "306",
         "307",
         "57",
         "Male",
         "27",
         "46.67",
         "Two-Year",
         "DSL",
         "1260.09",
         "Yes",
         "No"
        ],
        [
         "309",
         "310",
         "42",
         "Female",
         "14",
         "46.46",
         "Two-Year",
         "Fiber Optic",
         "650.44",
         "Yes",
         "No"
        ],
        [
         "324",
         "325",
         "34",
         "Male",
         "31",
         "90.55",
         "Two-Year",
         "DSL",
         "2807.05",
         "Yes",
         "No"
        ],
        [
         "339",
         "340",
         "39",
         "Male",
         "21",
         "73.75",
         "Two-Year",
         "DSL",
         "1548.75",
         "Yes",
         "No"
        ],
        [
         "342",
         "343",
         "47",
         "Female",
         "60",
         "56.23",
         "One-Year",
         "DSL",
         "3373.8",
         "Yes",
         "No"
        ],
        [
         "343",
         "344",
         "39",
         "Female",
         "24",
         "48.68",
         "Two-Year",
         "DSL",
         "1168.32",
         "Yes",
         "No"
        ],
        [
         "346",
         "347",
         "30",
         "Female",
         "30",
         "72.13",
         "Two-Year",
         "Fiber Optic",
         "2163.9",
         "Yes",
         "No"
        ],
        [
         "360",
         "361",
         "50",
         "Female",
         "34",
         "60.64",
         "Two-Year",
         "Fiber Optic",
         "2061.76",
         "Yes",
         "No"
        ],
        [
         "364",
         "365",
         "51",
         "Female",
         "12",
         "75.89",
         "One-Year",
         "DSL",
         "910.68",
         "Yes",
         "No"
        ],
        [
         "365",
         "366",
         "40",
         "Female",
         "42",
         "75.11",
         "One-Year",
         "DSL",
         "3154.62",
         "Yes",
         "No"
        ],
        [
         "372",
         "373",
         "59",
         "Male",
         "26",
         "32.25",
         "One-Year",
         "DSL",
         "838.5",
         "Yes",
         "No"
        ]
       ],
       "shape": {
        "columns": 10,
        "rows": 117
       }
      },
      "text/html": [
       "<div>\n",
       "<style scoped>\n",
       "    .dataframe tbody tr th:only-of-type {\n",
       "        vertical-align: middle;\n",
       "    }\n",
       "\n",
       "    .dataframe tbody tr th {\n",
       "        vertical-align: top;\n",
       "    }\n",
       "\n",
       "    .dataframe thead th {\n",
       "        text-align: right;\n",
       "    }\n",
       "</style>\n",
       "<table border=\"1\" class=\"dataframe\">\n",
       "  <thead>\n",
       "    <tr style=\"text-align: right;\">\n",
       "      <th></th>\n",
       "      <th>CustomerID</th>\n",
       "      <th>Age</th>\n",
       "      <th>Gender</th>\n",
       "      <th>Tenure</th>\n",
       "      <th>MonthlyCharges</th>\n",
       "      <th>ContractType</th>\n",
       "      <th>InternetService</th>\n",
       "      <th>TotalCharges</th>\n",
       "      <th>TechSupport</th>\n",
       "      <th>Churn</th>\n",
       "    </tr>\n",
       "  </thead>\n",
       "  <tbody>\n",
       "    <tr>\n",
       "      <th>8</th>\n",
       "      <td>9</td>\n",
       "      <td>40</td>\n",
       "      <td>Female</td>\n",
       "      <td>53</td>\n",
       "      <td>49.81</td>\n",
       "      <td>Two-Year</td>\n",
       "      <td>Fiber Optic</td>\n",
       "      <td>2639.93</td>\n",
       "      <td>Yes</td>\n",
       "      <td>No</td>\n",
       "    </tr>\n",
       "    <tr>\n",
       "      <th>11</th>\n",
       "      <td>12</td>\n",
       "      <td>40</td>\n",
       "      <td>Female</td>\n",
       "      <td>19</td>\n",
       "      <td>36.18</td>\n",
       "      <td>One-Year</td>\n",
       "      <td>Fiber Optic</td>\n",
       "      <td>687.42</td>\n",
       "      <td>Yes</td>\n",
       "      <td>No</td>\n",
       "    </tr>\n",
       "    <tr>\n",
       "      <th>15</th>\n",
       "      <td>16</td>\n",
       "      <td>39</td>\n",
       "      <td>Female</td>\n",
       "      <td>41</td>\n",
       "      <td>89.11</td>\n",
       "      <td>Two-Year</td>\n",
       "      <td>Fiber Optic</td>\n",
       "      <td>3653.51</td>\n",
       "      <td>Yes</td>\n",
       "      <td>No</td>\n",
       "    </tr>\n",
       "    <tr>\n",
       "      <th>18</th>\n",
       "      <td>19</td>\n",
       "      <td>35</td>\n",
       "      <td>Male</td>\n",
       "      <td>98</td>\n",
       "      <td>49.59</td>\n",
       "      <td>Two-Year</td>\n",
       "      <td>Fiber Optic</td>\n",
       "      <td>4859.82</td>\n",
       "      <td>Yes</td>\n",
       "      <td>No</td>\n",
       "    </tr>\n",
       "    <tr>\n",
       "      <th>24</th>\n",
       "      <td>25</td>\n",
       "      <td>39</td>\n",
       "      <td>Male</td>\n",
       "      <td>47</td>\n",
       "      <td>79.36</td>\n",
       "      <td>One-Year</td>\n",
       "      <td>DSL</td>\n",
       "      <td>3729.92</td>\n",
       "      <td>Yes</td>\n",
       "      <td>No</td>\n",
       "    </tr>\n",
       "    <tr>\n",
       "      <th>...</th>\n",
       "      <td>...</td>\n",
       "      <td>...</td>\n",
       "      <td>...</td>\n",
       "      <td>...</td>\n",
       "      <td>...</td>\n",
       "      <td>...</td>\n",
       "      <td>...</td>\n",
       "      <td>...</td>\n",
       "      <td>...</td>\n",
       "      <td>...</td>\n",
       "    </tr>\n",
       "    <tr>\n",
       "      <th>946</th>\n",
       "      <td>947</td>\n",
       "      <td>29</td>\n",
       "      <td>Female</td>\n",
       "      <td>15</td>\n",
       "      <td>98.06</td>\n",
       "      <td>One-Year</td>\n",
       "      <td>Fiber Optic</td>\n",
       "      <td>1470.90</td>\n",
       "      <td>Yes</td>\n",
       "      <td>No</td>\n",
       "    </tr>\n",
       "    <tr>\n",
       "      <th>950</th>\n",
       "      <td>951</td>\n",
       "      <td>42</td>\n",
       "      <td>Male</td>\n",
       "      <td>13</td>\n",
       "      <td>52.58</td>\n",
       "      <td>One-Year</td>\n",
       "      <td>DSL</td>\n",
       "      <td>683.54</td>\n",
       "      <td>Yes</td>\n",
       "      <td>No</td>\n",
       "    </tr>\n",
       "    <tr>\n",
       "      <th>956</th>\n",
       "      <td>957</td>\n",
       "      <td>48</td>\n",
       "      <td>Female</td>\n",
       "      <td>18</td>\n",
       "      <td>60.54</td>\n",
       "      <td>One-Year</td>\n",
       "      <td>Fiber Optic</td>\n",
       "      <td>1089.72</td>\n",
       "      <td>Yes</td>\n",
       "      <td>No</td>\n",
       "    </tr>\n",
       "    <tr>\n",
       "      <th>963</th>\n",
       "      <td>964</td>\n",
       "      <td>52</td>\n",
       "      <td>Male</td>\n",
       "      <td>45</td>\n",
       "      <td>66.06</td>\n",
       "      <td>Two-Year</td>\n",
       "      <td>DSL</td>\n",
       "      <td>2972.70</td>\n",
       "      <td>Yes</td>\n",
       "      <td>No</td>\n",
       "    </tr>\n",
       "    <tr>\n",
       "      <th>977</th>\n",
       "      <td>978</td>\n",
       "      <td>20</td>\n",
       "      <td>Female</td>\n",
       "      <td>15</td>\n",
       "      <td>72.97</td>\n",
       "      <td>One-Year</td>\n",
       "      <td>Fiber Optic</td>\n",
       "      <td>1094.55</td>\n",
       "      <td>Yes</td>\n",
       "      <td>No</td>\n",
       "    </tr>\n",
       "  </tbody>\n",
       "</table>\n",
       "<p>117 rows × 10 columns</p>\n",
       "</div>"
      ],
      "text/plain": [
       "     CustomerID  Age  Gender  Tenure  MonthlyCharges ContractType  \\\n",
       "8             9   40  Female      53           49.81     Two-Year   \n",
       "11           12   40  Female      19           36.18     One-Year   \n",
       "15           16   39  Female      41           89.11     Two-Year   \n",
       "18           19   35    Male      98           49.59     Two-Year   \n",
       "24           25   39    Male      47           79.36     One-Year   \n",
       "..          ...  ...     ...     ...             ...          ...   \n",
       "946         947   29  Female      15           98.06     One-Year   \n",
       "950         951   42    Male      13           52.58     One-Year   \n",
       "956         957   48  Female      18           60.54     One-Year   \n",
       "963         964   52    Male      45           66.06     Two-Year   \n",
       "977         978   20  Female      15           72.97     One-Year   \n",
       "\n",
       "    InternetService  TotalCharges TechSupport Churn  \n",
       "8       Fiber Optic       2639.93         Yes    No  \n",
       "11      Fiber Optic        687.42         Yes    No  \n",
       "15      Fiber Optic       3653.51         Yes    No  \n",
       "18      Fiber Optic       4859.82         Yes    No  \n",
       "24              DSL       3729.92         Yes    No  \n",
       "..              ...           ...         ...   ...  \n",
       "946     Fiber Optic       1470.90         Yes    No  \n",
       "950             DSL        683.54         Yes    No  \n",
       "956     Fiber Optic       1089.72         Yes    No  \n",
       "963             DSL       2972.70         Yes    No  \n",
       "977     Fiber Optic       1094.55         Yes    No  \n",
       "\n",
       "[117 rows x 10 columns]"
      ]
     },
     "execution_count": 714,
     "metadata": {},
     "output_type": "execute_result"
    }
   ],
   "source": [
    "df[df[\"Churn\"] == \"No\"]"
   ]
  },
  {
   "cell_type": "code",
   "execution_count": 715,
   "id": "d932cbcb",
   "metadata": {},
   "outputs": [
    {
     "name": "stdout",
     "output_type": "stream",
     "text": [
      "<class 'pandas.core.frame.DataFrame'>\n",
      "RangeIndex: 1000 entries, 0 to 999\n",
      "Data columns (total 10 columns):\n",
      " #   Column           Non-Null Count  Dtype  \n",
      "---  ------           --------------  -----  \n",
      " 0   CustomerID       1000 non-null   int64  \n",
      " 1   Age              1000 non-null   int64  \n",
      " 2   Gender           1000 non-null   object \n",
      " 3   Tenure           1000 non-null   int64  \n",
      " 4   MonthlyCharges   1000 non-null   float64\n",
      " 5   ContractType     1000 non-null   object \n",
      " 6   InternetService  703 non-null    object \n",
      " 7   TotalCharges     1000 non-null   float64\n",
      " 8   TechSupport      1000 non-null   object \n",
      " 9   Churn            1000 non-null   object \n",
      "dtypes: float64(2), int64(3), object(5)\n",
      "memory usage: 78.3+ KB\n"
     ]
    }
   ],
   "source": [
    "df.info()"
   ]
  },
  {
   "cell_type": "code",
   "execution_count": 716,
   "id": "539e2dde",
   "metadata": {},
   "outputs": [
    {
     "data": {
      "application/vnd.microsoft.datawrangler.viewer.v0+json": {
       "columns": [
        {
         "name": "index",
         "rawType": "object",
         "type": "string"
        },
        {
         "name": "0",
         "rawType": "int64",
         "type": "integer"
        }
       ],
       "ref": "666769a0-356c-4a46-8693-dfd4d2c8040d",
       "rows": [
        [
         "CustomerID",
         "0"
        ],
        [
         "Age",
         "0"
        ],
        [
         "Gender",
         "0"
        ],
        [
         "Tenure",
         "0"
        ],
        [
         "MonthlyCharges",
         "0"
        ],
        [
         "ContractType",
         "0"
        ],
        [
         "InternetService",
         "297"
        ],
        [
         "TotalCharges",
         "0"
        ],
        [
         "TechSupport",
         "0"
        ],
        [
         "Churn",
         "0"
        ]
       ],
       "shape": {
        "columns": 1,
        "rows": 10
       }
      },
      "text/plain": [
       "CustomerID           0\n",
       "Age                  0\n",
       "Gender               0\n",
       "Tenure               0\n",
       "MonthlyCharges       0\n",
       "ContractType         0\n",
       "InternetService    297\n",
       "TotalCharges         0\n",
       "TechSupport          0\n",
       "Churn                0\n",
       "dtype: int64"
      ]
     },
     "execution_count": 716,
     "metadata": {},
     "output_type": "execute_result"
    }
   ],
   "source": [
    "df.isna().sum()"
   ]
  },
  {
   "cell_type": "code",
   "execution_count": 717,
   "id": "69a7cb8c",
   "metadata": {},
   "outputs": [],
   "source": [
    "df[\"InternetService\"] = df[\"InternetService\"].fillna(\"\")"
   ]
  },
  {
   "cell_type": "code",
   "execution_count": 718,
   "id": "d0116582",
   "metadata": {},
   "outputs": [
    {
     "data": {
      "text/plain": [
       "0"
      ]
     },
     "execution_count": 718,
     "metadata": {},
     "output_type": "execute_result"
    }
   ],
   "source": [
    "df.duplicated().sum()"
   ]
  },
  {
   "cell_type": "code",
   "execution_count": 719,
   "id": "a1aa967a",
   "metadata": {},
   "outputs": [
    {
     "data": {
      "application/vnd.microsoft.datawrangler.viewer.v0+json": {
       "columns": [
        {
         "name": "index",
         "rawType": "object",
         "type": "string"
        },
        {
         "name": "CustomerID",
         "rawType": "float64",
         "type": "float"
        },
        {
         "name": "Age",
         "rawType": "float64",
         "type": "float"
        },
        {
         "name": "Tenure",
         "rawType": "float64",
         "type": "float"
        },
        {
         "name": "MonthlyCharges",
         "rawType": "float64",
         "type": "float"
        },
        {
         "name": "TotalCharges",
         "rawType": "float64",
         "type": "float"
        }
       ],
       "ref": "2c6382d5-7f58-4b9b-93ab-6cc005fd0569",
       "rows": [
        [
         "count",
         "1000.0",
         "1000.0",
         "1000.0",
         "1000.0",
         "1000.0"
        ],
        [
         "mean",
         "500.5",
         "44.674",
         "18.973",
         "74.39129000000001",
         "1404.36406"
        ],
        [
         "std",
         "288.8194360957494",
         "9.797740541559538",
         "18.892569973410204",
         "25.712083094392657",
         "1571.7550483772"
        ],
        [
         "min",
         "1.0",
         "12.0",
         "0.0",
         "30.0",
         "0.0"
        ],
        [
         "25%",
         "250.75",
         "38.0",
         "5.0",
         "52.3575",
         "345.2175"
        ],
        [
         "50%",
         "500.5",
         "45.0",
         "13.0",
         "74.06",
         "872.8699999999999"
        ],
        [
         "75%",
         "750.25",
         "51.0",
         "26.0",
         "96.1025",
         "1900.1750000000002"
        ],
        [
         "max",
         "1000.0",
         "83.0",
         "122.0",
         "119.96",
         "12416.25"
        ]
       ],
       "shape": {
        "columns": 5,
        "rows": 8
       }
      },
      "text/html": [
       "<div>\n",
       "<style scoped>\n",
       "    .dataframe tbody tr th:only-of-type {\n",
       "        vertical-align: middle;\n",
       "    }\n",
       "\n",
       "    .dataframe tbody tr th {\n",
       "        vertical-align: top;\n",
       "    }\n",
       "\n",
       "    .dataframe thead th {\n",
       "        text-align: right;\n",
       "    }\n",
       "</style>\n",
       "<table border=\"1\" class=\"dataframe\">\n",
       "  <thead>\n",
       "    <tr style=\"text-align: right;\">\n",
       "      <th></th>\n",
       "      <th>CustomerID</th>\n",
       "      <th>Age</th>\n",
       "      <th>Tenure</th>\n",
       "      <th>MonthlyCharges</th>\n",
       "      <th>TotalCharges</th>\n",
       "    </tr>\n",
       "  </thead>\n",
       "  <tbody>\n",
       "    <tr>\n",
       "      <th>count</th>\n",
       "      <td>1000.000000</td>\n",
       "      <td>1000.000000</td>\n",
       "      <td>1000.00000</td>\n",
       "      <td>1000.000000</td>\n",
       "      <td>1000.000000</td>\n",
       "    </tr>\n",
       "    <tr>\n",
       "      <th>mean</th>\n",
       "      <td>500.500000</td>\n",
       "      <td>44.674000</td>\n",
       "      <td>18.97300</td>\n",
       "      <td>74.391290</td>\n",
       "      <td>1404.364060</td>\n",
       "    </tr>\n",
       "    <tr>\n",
       "      <th>std</th>\n",
       "      <td>288.819436</td>\n",
       "      <td>9.797741</td>\n",
       "      <td>18.89257</td>\n",
       "      <td>25.712083</td>\n",
       "      <td>1571.755048</td>\n",
       "    </tr>\n",
       "    <tr>\n",
       "      <th>min</th>\n",
       "      <td>1.000000</td>\n",
       "      <td>12.000000</td>\n",
       "      <td>0.00000</td>\n",
       "      <td>30.000000</td>\n",
       "      <td>0.000000</td>\n",
       "    </tr>\n",
       "    <tr>\n",
       "      <th>25%</th>\n",
       "      <td>250.750000</td>\n",
       "      <td>38.000000</td>\n",
       "      <td>5.00000</td>\n",
       "      <td>52.357500</td>\n",
       "      <td>345.217500</td>\n",
       "    </tr>\n",
       "    <tr>\n",
       "      <th>50%</th>\n",
       "      <td>500.500000</td>\n",
       "      <td>45.000000</td>\n",
       "      <td>13.00000</td>\n",
       "      <td>74.060000</td>\n",
       "      <td>872.870000</td>\n",
       "    </tr>\n",
       "    <tr>\n",
       "      <th>75%</th>\n",
       "      <td>750.250000</td>\n",
       "      <td>51.000000</td>\n",
       "      <td>26.00000</td>\n",
       "      <td>96.102500</td>\n",
       "      <td>1900.175000</td>\n",
       "    </tr>\n",
       "    <tr>\n",
       "      <th>max</th>\n",
       "      <td>1000.000000</td>\n",
       "      <td>83.000000</td>\n",
       "      <td>122.00000</td>\n",
       "      <td>119.960000</td>\n",
       "      <td>12416.250000</td>\n",
       "    </tr>\n",
       "  </tbody>\n",
       "</table>\n",
       "</div>"
      ],
      "text/plain": [
       "        CustomerID          Age      Tenure  MonthlyCharges  TotalCharges\n",
       "count  1000.000000  1000.000000  1000.00000     1000.000000   1000.000000\n",
       "mean    500.500000    44.674000    18.97300       74.391290   1404.364060\n",
       "std     288.819436     9.797741    18.89257       25.712083   1571.755048\n",
       "min       1.000000    12.000000     0.00000       30.000000      0.000000\n",
       "25%     250.750000    38.000000     5.00000       52.357500    345.217500\n",
       "50%     500.500000    45.000000    13.00000       74.060000    872.870000\n",
       "75%     750.250000    51.000000    26.00000       96.102500   1900.175000\n",
       "max    1000.000000    83.000000   122.00000      119.960000  12416.250000"
      ]
     },
     "execution_count": 719,
     "metadata": {},
     "output_type": "execute_result"
    }
   ],
   "source": [
    "df.describe()"
   ]
  },
  {
   "cell_type": "code",
   "execution_count": 720,
   "id": "8f15d651",
   "metadata": {},
   "outputs": [
    {
     "data": {
      "application/vnd.microsoft.datawrangler.viewer.v0+json": {
       "columns": [
        {
         "name": "index",
         "rawType": "int64",
         "type": "integer"
        },
        {
         "name": "CustomerID",
         "rawType": "int64",
         "type": "integer"
        },
        {
         "name": "Age",
         "rawType": "int64",
         "type": "integer"
        },
        {
         "name": "Tenure",
         "rawType": "int64",
         "type": "integer"
        },
        {
         "name": "MonthlyCharges",
         "rawType": "float64",
         "type": "float"
        },
        {
         "name": "TotalCharges",
         "rawType": "float64",
         "type": "float"
        }
       ],
       "ref": "c2da381e-4946-44a9-8066-28f31f5311bd",
       "rows": [
        [
         "0",
         "1",
         "49",
         "4",
         "88.35",
         "353.4"
        ],
        [
         "1",
         "2",
         "43",
         "0",
         "36.67",
         "0.0"
        ],
        [
         "2",
         "3",
         "51",
         "2",
         "63.79",
         "127.58"
        ],
        [
         "3",
         "4",
         "60",
         "8",
         "102.34",
         "818.72"
        ],
        [
         "4",
         "5",
         "42",
         "32",
         "69.01",
         "2208.32"
        ],
        [
         "5",
         "6",
         "42",
         "16",
         "119.75",
         "1916.0"
        ],
        [
         "6",
         "7",
         "60",
         "14",
         "80.32",
         "1124.48"
        ],
        [
         "7",
         "8",
         "52",
         "6",
         "58.9",
         "353.4"
        ],
        [
         "8",
         "9",
         "40",
         "53",
         "49.81",
         "2639.9300000000003"
        ],
        [
         "9",
         "10",
         "50",
         "10",
         "61.55",
         "615.5"
        ],
        [
         "10",
         "11",
         "40",
         "1",
         "63.53",
         "63.53"
        ],
        [
         "11",
         "12",
         "40",
         "19",
         "36.18",
         "687.42"
        ],
        [
         "12",
         "13",
         "47",
         "2",
         "63.26",
         "126.52"
        ],
        [
         "13",
         "14",
         "25",
         "8",
         "71.78",
         "574.24"
        ],
        [
         "14",
         "15",
         "27",
         "14",
         "95.05",
         "1330.7"
        ],
        [
         "15",
         "16",
         "39",
         "41",
         "89.11",
         "3653.51"
        ],
        [
         "16",
         "17",
         "34",
         "13",
         "93.79",
         "1219.27"
        ],
        [
         "17",
         "18",
         "48",
         "24",
         "30.75",
         "738.0"
        ],
        [
         "18",
         "19",
         "35",
         "98",
         "49.59",
         "4859.820000000001"
        ],
        [
         "19",
         "20",
         "30",
         "2",
         "89.55",
         "179.1"
        ],
        [
         "20",
         "21",
         "59",
         "6",
         "73.56",
         "441.36"
        ],
        [
         "21",
         "22",
         "42",
         "10",
         "30.48",
         "304.8"
        ],
        [
         "22",
         "23",
         "45",
         "10",
         "102.4",
         "1024.0"
        ],
        [
         "23",
         "24",
         "30",
         "10",
         "99.55",
         "995.5"
        ],
        [
         "24",
         "25",
         "39",
         "47",
         "79.36",
         "3729.92"
        ],
        [
         "25",
         "26",
         "46",
         "25",
         "35.98",
         "899.4999999999999"
        ],
        [
         "26",
         "27",
         "33",
         "18",
         "98.99",
         "1781.82"
        ],
        [
         "27",
         "28",
         "48",
         "7",
         "82.53",
         "577.71"
        ],
        [
         "28",
         "29",
         "38",
         "34",
         "100.38",
         "3412.92"
        ],
        [
         "29",
         "30",
         "42",
         "62",
         "97.66",
         "6054.92"
        ],
        [
         "30",
         "31",
         "38",
         "34",
         "102.27",
         "3477.18"
        ],
        [
         "31",
         "32",
         "63",
         "0",
         "76.62",
         "0.0"
        ],
        [
         "32",
         "33",
         "44",
         "20",
         "42.63",
         "852.6"
        ],
        [
         "33",
         "34",
         "34",
         "1",
         "90.4",
         "90.4"
        ],
        [
         "34",
         "35",
         "53",
         "5",
         "85.84",
         "429.2000000000001"
        ],
        [
         "35",
         "36",
         "32",
         "1",
         "96.8",
         "96.8"
        ],
        [
         "36",
         "37",
         "47",
         "18",
         "45.29",
         "815.22"
        ],
        [
         "37",
         "38",
         "25",
         "23",
         "47.55",
         "1093.65"
        ],
        [
         "38",
         "39",
         "31",
         "2",
         "110.14",
         "220.28"
        ],
        [
         "39",
         "40",
         "46",
         "9",
         "97.5",
         "877.5"
        ],
        [
         "40",
         "41",
         "52",
         "12",
         "111.74",
         "1340.88"
        ],
        [
         "41",
         "42",
         "46",
         "9",
         "98.28",
         "884.52"
        ],
        [
         "42",
         "43",
         "43",
         "2",
         "83.74",
         "167.48"
        ],
        [
         "43",
         "44",
         "41",
         "10",
         "88.87",
         "888.7"
        ],
        [
         "44",
         "45",
         "30",
         "27",
         "110.02",
         "2970.54"
        ],
        [
         "45",
         "46",
         "37",
         "1",
         "82.09",
         "82.09"
        ],
        [
         "46",
         "47",
         "40",
         "1",
         "86.92",
         "86.92"
        ],
        [
         "47",
         "48",
         "55",
         "8",
         "44.08",
         "352.64"
        ],
        [
         "48",
         "49",
         "48",
         "56",
         "72.65",
         "4068.400000000001"
        ],
        [
         "49",
         "50",
         "27",
         "22",
         "94.48",
         "2078.56"
        ]
       ],
       "shape": {
        "columns": 5,
        "rows": 1000
       }
      },
      "text/html": [
       "<div>\n",
       "<style scoped>\n",
       "    .dataframe tbody tr th:only-of-type {\n",
       "        vertical-align: middle;\n",
       "    }\n",
       "\n",
       "    .dataframe tbody tr th {\n",
       "        vertical-align: top;\n",
       "    }\n",
       "\n",
       "    .dataframe thead th {\n",
       "        text-align: right;\n",
       "    }\n",
       "</style>\n",
       "<table border=\"1\" class=\"dataframe\">\n",
       "  <thead>\n",
       "    <tr style=\"text-align: right;\">\n",
       "      <th></th>\n",
       "      <th>CustomerID</th>\n",
       "      <th>Age</th>\n",
       "      <th>Tenure</th>\n",
       "      <th>MonthlyCharges</th>\n",
       "      <th>TotalCharges</th>\n",
       "    </tr>\n",
       "  </thead>\n",
       "  <tbody>\n",
       "    <tr>\n",
       "      <th>0</th>\n",
       "      <td>1</td>\n",
       "      <td>49</td>\n",
       "      <td>4</td>\n",
       "      <td>88.35</td>\n",
       "      <td>353.40</td>\n",
       "    </tr>\n",
       "    <tr>\n",
       "      <th>1</th>\n",
       "      <td>2</td>\n",
       "      <td>43</td>\n",
       "      <td>0</td>\n",
       "      <td>36.67</td>\n",
       "      <td>0.00</td>\n",
       "    </tr>\n",
       "    <tr>\n",
       "      <th>2</th>\n",
       "      <td>3</td>\n",
       "      <td>51</td>\n",
       "      <td>2</td>\n",
       "      <td>63.79</td>\n",
       "      <td>127.58</td>\n",
       "    </tr>\n",
       "    <tr>\n",
       "      <th>3</th>\n",
       "      <td>4</td>\n",
       "      <td>60</td>\n",
       "      <td>8</td>\n",
       "      <td>102.34</td>\n",
       "      <td>818.72</td>\n",
       "    </tr>\n",
       "    <tr>\n",
       "      <th>4</th>\n",
       "      <td>5</td>\n",
       "      <td>42</td>\n",
       "      <td>32</td>\n",
       "      <td>69.01</td>\n",
       "      <td>2208.32</td>\n",
       "    </tr>\n",
       "    <tr>\n",
       "      <th>...</th>\n",
       "      <td>...</td>\n",
       "      <td>...</td>\n",
       "      <td>...</td>\n",
       "      <td>...</td>\n",
       "      <td>...</td>\n",
       "    </tr>\n",
       "    <tr>\n",
       "      <th>995</th>\n",
       "      <td>996</td>\n",
       "      <td>42</td>\n",
       "      <td>41</td>\n",
       "      <td>37.14</td>\n",
       "      <td>1522.74</td>\n",
       "    </tr>\n",
       "    <tr>\n",
       "      <th>996</th>\n",
       "      <td>997</td>\n",
       "      <td>62</td>\n",
       "      <td>9</td>\n",
       "      <td>80.93</td>\n",
       "      <td>728.37</td>\n",
       "    </tr>\n",
       "    <tr>\n",
       "      <th>997</th>\n",
       "      <td>998</td>\n",
       "      <td>51</td>\n",
       "      <td>15</td>\n",
       "      <td>111.72</td>\n",
       "      <td>1675.80</td>\n",
       "    </tr>\n",
       "    <tr>\n",
       "      <th>998</th>\n",
       "      <td>999</td>\n",
       "      <td>39</td>\n",
       "      <td>68</td>\n",
       "      <td>65.67</td>\n",
       "      <td>4465.56</td>\n",
       "    </tr>\n",
       "    <tr>\n",
       "      <th>999</th>\n",
       "      <td>1000</td>\n",
       "      <td>50</td>\n",
       "      <td>1</td>\n",
       "      <td>56.67</td>\n",
       "      <td>56.67</td>\n",
       "    </tr>\n",
       "  </tbody>\n",
       "</table>\n",
       "<p>1000 rows × 5 columns</p>\n",
       "</div>"
      ],
      "text/plain": [
       "     CustomerID  Age  Tenure  MonthlyCharges  TotalCharges\n",
       "0             1   49       4           88.35        353.40\n",
       "1             2   43       0           36.67          0.00\n",
       "2             3   51       2           63.79        127.58\n",
       "3             4   60       8          102.34        818.72\n",
       "4             5   42      32           69.01       2208.32\n",
       "..          ...  ...     ...             ...           ...\n",
       "995         996   42      41           37.14       1522.74\n",
       "996         997   62       9           80.93        728.37\n",
       "997         998   51      15          111.72       1675.80\n",
       "998         999   39      68           65.67       4465.56\n",
       "999        1000   50       1           56.67         56.67\n",
       "\n",
       "[1000 rows x 5 columns]"
      ]
     },
     "execution_count": 720,
     "metadata": {},
     "output_type": "execute_result"
    }
   ],
   "source": [
    "numeric_columns_df = df.select_dtypes(include=[\"number\"])\n",
    "numeric_columns_df"
   ]
  },
  {
   "cell_type": "code",
   "execution_count": 721,
   "id": "9e16daa5",
   "metadata": {},
   "outputs": [
    {
     "data": {
      "application/vnd.microsoft.datawrangler.viewer.v0+json": {
       "columns": [
        {
         "name": "index",
         "rawType": "object",
         "type": "string"
        },
        {
         "name": "CustomerID",
         "rawType": "float64",
         "type": "float"
        },
        {
         "name": "Age",
         "rawType": "float64",
         "type": "float"
        },
        {
         "name": "Tenure",
         "rawType": "float64",
         "type": "float"
        },
        {
         "name": "MonthlyCharges",
         "rawType": "float64",
         "type": "float"
        },
        {
         "name": "TotalCharges",
         "rawType": "float64",
         "type": "float"
        }
       ],
       "ref": "c0c47a6b-54ce-4b9c-ab26-49160628c297",
       "rows": [
        [
         "CustomerID",
         "1.0",
         "0.03672971543176792",
         "-0.01858501610492105",
         "-0.030503798184535198",
         "-0.02749000934403013"
        ],
        [
         "Age",
         "0.03672971543176792",
         "1.0",
         "0.00047154599628161463",
         "0.00636210405740666",
         "-0.0018955704218939077"
        ],
        [
         "Tenure",
         "-0.01858501610492105",
         "0.00047154599628161463",
         "1.0",
         "-0.014552139886274922",
         "0.8948684175102851"
        ],
        [
         "MonthlyCharges",
         "-0.030503798184535198",
         "0.00636210405740666",
         "-0.014552139886274922",
         "1.0",
         "0.30489323039018756"
        ],
        [
         "TotalCharges",
         "-0.02749000934403013",
         "-0.0018955704218939077",
         "0.8948684175102851",
         "0.30489323039018756",
         "1.0"
        ]
       ],
       "shape": {
        "columns": 5,
        "rows": 5
       }
      },
      "text/html": [
       "<div>\n",
       "<style scoped>\n",
       "    .dataframe tbody tr th:only-of-type {\n",
       "        vertical-align: middle;\n",
       "    }\n",
       "\n",
       "    .dataframe tbody tr th {\n",
       "        vertical-align: top;\n",
       "    }\n",
       "\n",
       "    .dataframe thead th {\n",
       "        text-align: right;\n",
       "    }\n",
       "</style>\n",
       "<table border=\"1\" class=\"dataframe\">\n",
       "  <thead>\n",
       "    <tr style=\"text-align: right;\">\n",
       "      <th></th>\n",
       "      <th>CustomerID</th>\n",
       "      <th>Age</th>\n",
       "      <th>Tenure</th>\n",
       "      <th>MonthlyCharges</th>\n",
       "      <th>TotalCharges</th>\n",
       "    </tr>\n",
       "  </thead>\n",
       "  <tbody>\n",
       "    <tr>\n",
       "      <th>CustomerID</th>\n",
       "      <td>1.000000</td>\n",
       "      <td>0.036730</td>\n",
       "      <td>-0.018585</td>\n",
       "      <td>-0.030504</td>\n",
       "      <td>-0.027490</td>\n",
       "    </tr>\n",
       "    <tr>\n",
       "      <th>Age</th>\n",
       "      <td>0.036730</td>\n",
       "      <td>1.000000</td>\n",
       "      <td>0.000472</td>\n",
       "      <td>0.006362</td>\n",
       "      <td>-0.001896</td>\n",
       "    </tr>\n",
       "    <tr>\n",
       "      <th>Tenure</th>\n",
       "      <td>-0.018585</td>\n",
       "      <td>0.000472</td>\n",
       "      <td>1.000000</td>\n",
       "      <td>-0.014552</td>\n",
       "      <td>0.894868</td>\n",
       "    </tr>\n",
       "    <tr>\n",
       "      <th>MonthlyCharges</th>\n",
       "      <td>-0.030504</td>\n",
       "      <td>0.006362</td>\n",
       "      <td>-0.014552</td>\n",
       "      <td>1.000000</td>\n",
       "      <td>0.304893</td>\n",
       "    </tr>\n",
       "    <tr>\n",
       "      <th>TotalCharges</th>\n",
       "      <td>-0.027490</td>\n",
       "      <td>-0.001896</td>\n",
       "      <td>0.894868</td>\n",
       "      <td>0.304893</td>\n",
       "      <td>1.000000</td>\n",
       "    </tr>\n",
       "  </tbody>\n",
       "</table>\n",
       "</div>"
      ],
      "text/plain": [
       "                CustomerID       Age    Tenure  MonthlyCharges  TotalCharges\n",
       "CustomerID        1.000000  0.036730 -0.018585       -0.030504     -0.027490\n",
       "Age               0.036730  1.000000  0.000472        0.006362     -0.001896\n",
       "Tenure           -0.018585  0.000472  1.000000       -0.014552      0.894868\n",
       "MonthlyCharges   -0.030504  0.006362 -0.014552        1.000000      0.304893\n",
       "TotalCharges     -0.027490 -0.001896  0.894868        0.304893      1.000000"
      ]
     },
     "execution_count": 721,
     "metadata": {},
     "output_type": "execute_result"
    }
   ],
   "source": [
    "numeric_columns_df.corr() # Correlations take -1 (strong negative) and 1 (strong positive)"
   ]
  },
  {
   "cell_type": "code",
   "execution_count": 722,
   "id": "53e971d0",
   "metadata": {},
   "outputs": [
    {
     "data": {
      "application/vnd.microsoft.datawrangler.viewer.v0+json": {
       "columns": [
        {
         "name": "Churn",
         "rawType": "object",
         "type": "string"
        },
        {
         "name": "count",
         "rawType": "int64",
         "type": "integer"
        }
       ],
       "ref": "5aa1c002-1455-4e37-ad38-f96ba9b732ab",
       "rows": [
        [
         "Yes",
         "883"
        ],
        [
         "No",
         "117"
        ]
       ],
       "shape": {
        "columns": 1,
        "rows": 2
       }
      },
      "text/plain": [
       "Churn\n",
       "Yes    883\n",
       "No     117\n",
       "Name: count, dtype: int64"
      ]
     },
     "execution_count": 722,
     "metadata": {},
     "output_type": "execute_result"
    }
   ],
   "source": [
    "df[\"Churn\"].value_counts()"
   ]
  },
  {
   "cell_type": "code",
   "execution_count": 723,
   "id": "67813665",
   "metadata": {},
   "outputs": [
    {
     "data": {
      "text/plain": [
       "pandas.core.series.Series"
      ]
     },
     "execution_count": 723,
     "metadata": {},
     "output_type": "execute_result"
    }
   ],
   "source": [
    "type(df[\"Churn\"].value_counts())"
   ]
  },
  {
   "cell_type": "code",
   "execution_count": 724,
   "id": "9d90e49d",
   "metadata": {},
   "outputs": [
    {
     "data": {
      "image/png": "[encoded data removed]",
      "text/plain": [
       "<Figure size 640x480 with 1 Axes>"
      ]
     },
     "metadata": {},
     "output_type": "display_data"
    }
   ],
   "source": [
    "df[\"Churn\"].value_counts().plot(kind=\"bar\")\n",
    "plt.title(\"Churn (Yes/No)\")\n",
    "plt.ylabel(\"\")\n",
    "plt.show()"
   ]
  },
  {
   "cell_type": "code",
   "execution_count": 725,
   "id": "71a337d8",
   "metadata": {},
   "outputs": [
    {
     "data": {
      "application/vnd.microsoft.datawrangler.viewer.v0+json": {
       "columns": [
        {
         "name": "index",
         "rawType": "int64",
         "type": "integer"
        },
        {
         "name": "CustomerID",
         "rawType": "int64",
         "type": "integer"
        },
        {
         "name": "Age",
         "rawType": "int64",
         "type": "integer"
        },
        {
         "name": "Gender",
         "rawType": "object",
         "type": "string"
        },
        {
         "name": "Tenure",
         "rawType": "int64",
         "type": "integer"
        },
        {
         "name": "MonthlyCharges",
         "rawType": "float64",
         "type": "float"
        },
        {
         "name": "ContractType",
         "rawType": "object",
         "type": "string"
        },
        {
         "name": "InternetService",
         "rawType": "object",
         "type": "string"
        },
        {
         "name": "TotalCharges",
         "rawType": "float64",
         "type": "float"
        },
        {
         "name": "TechSupport",
         "rawType": "object",
         "type": "string"
        },
        {
         "name": "Churn",
         "rawType": "object",
         "type": "string"
        }
       ],
       "ref": "21a06c7a-bbf3-4211-b95c-828cd379ea5c",
       "rows": [
        [
         "0",
         "1",
         "49",
         "Male",
         "4",
         "88.35",
         "Month-to-Month",
         "Fiber Optic",
         "353.4",
         "Yes",
         "Yes"
        ],
        [
         "1",
         "2",
         "43",
         "Male",
         "0",
         "36.67",
         "Month-to-Month",
         "Fiber Optic",
         "0.0",
         "Yes",
         "Yes"
        ]
       ],
       "shape": {
        "columns": 10,
        "rows": 2
       }
      },
      "text/html": [
       "<div>\n",
       "<style scoped>\n",
       "    .dataframe tbody tr th:only-of-type {\n",
       "        vertical-align: middle;\n",
       "    }\n",
       "\n",
       "    .dataframe tbody tr th {\n",
       "        vertical-align: top;\n",
       "    }\n",
       "\n",
       "    .dataframe thead th {\n",
       "        text-align: right;\n",
       "    }\n",
       "</style>\n",
       "<table border=\"1\" class=\"dataframe\">\n",
       "  <thead>\n",
       "    <tr style=\"text-align: right;\">\n",
       "      <th></th>\n",
       "      <th>CustomerID</th>\n",
       "      <th>Age</th>\n",
       "      <th>Gender</th>\n",
       "      <th>Tenure</th>\n",
       "      <th>MonthlyCharges</th>\n",
       "      <th>ContractType</th>\n",
       "      <th>InternetService</th>\n",
       "      <th>TotalCharges</th>\n",
       "      <th>TechSupport</th>\n",
       "      <th>Churn</th>\n",
       "    </tr>\n",
       "  </thead>\n",
       "  <tbody>\n",
       "    <tr>\n",
       "      <th>0</th>\n",
       "      <td>1</td>\n",
       "      <td>49</td>\n",
       "      <td>Male</td>\n",
       "      <td>4</td>\n",
       "      <td>88.35</td>\n",
       "      <td>Month-to-Month</td>\n",
       "      <td>Fiber Optic</td>\n",
       "      <td>353.4</td>\n",
       "      <td>Yes</td>\n",
       "      <td>Yes</td>\n",
       "    </tr>\n",
       "    <tr>\n",
       "      <th>1</th>\n",
       "      <td>2</td>\n",
       "      <td>43</td>\n",
       "      <td>Male</td>\n",
       "      <td>0</td>\n",
       "      <td>36.67</td>\n",
       "      <td>Month-to-Month</td>\n",
       "      <td>Fiber Optic</td>\n",
       "      <td>0.0</td>\n",
       "      <td>Yes</td>\n",
       "      <td>Yes</td>\n",
       "    </tr>\n",
       "  </tbody>\n",
       "</table>\n",
       "</div>"
      ],
      "text/plain": [
       "   CustomerID  Age Gender  Tenure  MonthlyCharges    ContractType  \\\n",
       "0           1   49   Male       4           88.35  Month-to-Month   \n",
       "1           2   43   Male       0           36.67  Month-to-Month   \n",
       "\n",
       "  InternetService  TotalCharges TechSupport Churn  \n",
       "0     Fiber Optic         353.4         Yes   Yes  \n",
       "1     Fiber Optic           0.0         Yes   Yes  "
      ]
     },
     "execution_count": 725,
     "metadata": {},
     "output_type": "execute_result"
    }
   ],
   "source": [
    "df.head(2)"
   ]
  },
  {
   "cell_type": "code",
   "execution_count": 726,
   "id": "50be8cfd",
   "metadata": {},
   "outputs": [
    {
     "data": {
      "application/vnd.microsoft.datawrangler.viewer.v0+json": {
       "columns": [
        {
         "name": "Churn",
         "rawType": "object",
         "type": "string"
        },
        {
         "name": "MonthlyCharges",
         "rawType": "float64",
         "type": "float"
        }
       ],
       "ref": "4ca9e79b-1168-4bcf-87ec-e2e34ab5280a",
       "rows": [
        [
         "No",
         "62.54641025641026"
        ],
        [
         "Yes",
         "75.96077010192525"
        ]
       ],
       "shape": {
        "columns": 1,
        "rows": 2
       }
      },
      "text/plain": [
       "Churn\n",
       "No     62.54641\n",
       "Yes    75.96077\n",
       "Name: MonthlyCharges, dtype: float64"
      ]
     },
     "execution_count": 726,
     "metadata": {},
     "output_type": "execute_result"
    }
   ],
   "source": [
    "df.groupby(\"Churn\")[\"MonthlyCharges\"].mean()"
   ]
  },
  {
   "cell_type": "code",
   "execution_count": 727,
   "id": "e2a4d0df",
   "metadata": {},
   "outputs": [
    {
     "data": {
      "application/vnd.microsoft.datawrangler.viewer.v0+json": {
       "columns": [
        {
         "name": "('Churn', 'Gender')",
         "rawType": "object",
         "type": "unknown"
        },
        {
         "name": "MonthlyCharges",
         "rawType": "float64",
         "type": "float"
        }
       ],
       "ref": "0a9d1a1b-62bf-4411-81dc-e78b0d9835c6",
       "rows": [
        [
         "('No', 'Female')",
         "65.09191176470588"
        ],
        [
         "('No', 'Male')",
         "59.01387755102041"
        ],
        [
         "('Yes', 'Female')",
         "74.97506382978723"
        ],
        [
         "('Yes', 'Male')",
         "77.08251815980628"
        ]
       ],
       "shape": {
        "columns": 1,
        "rows": 4
       }
      },
      "text/plain": [
       "Churn  Gender\n",
       "No     Female    65.091912\n",
       "       Male      59.013878\n",
       "Yes    Female    74.975064\n",
       "       Male      77.082518\n",
       "Name: MonthlyCharges, dtype: float64"
      ]
     },
     "execution_count": 727,
     "metadata": {},
     "output_type": "execute_result"
    }
   ],
   "source": [
    "df.groupby([\"Churn\", \"Gender\"])[\"MonthlyCharges\"].mean()"
   ]
  },
  {
   "cell_type": "code",
   "execution_count": 728,
   "id": "dd733e13",
   "metadata": {},
   "outputs": [
    {
     "data": {
      "application/vnd.microsoft.datawrangler.viewer.v0+json": {
       "columns": [
        {
         "name": "Churn",
         "rawType": "object",
         "type": "string"
        },
        {
         "name": "Tenure",
         "rawType": "float64",
         "type": "float"
        }
       ],
       "ref": "3b3b4e21-95a9-4c5e-b3f3-3893018ad959",
       "rows": [
        [
         "No",
         "30.264957264957264"
        ],
        [
         "Yes",
         "17.47678369195923"
        ]
       ],
       "shape": {
        "columns": 1,
        "rows": 2
       }
      },
      "text/plain": [
       "Churn\n",
       "No     30.264957\n",
       "Yes    17.476784\n",
       "Name: Tenure, dtype: float64"
      ]
     },
     "execution_count": 728,
     "metadata": {},
     "output_type": "execute_result"
    }
   ],
   "source": [
    "df.groupby(\"Churn\")[\"Tenure\"].mean()"
   ]
  },
  {
   "cell_type": "code",
   "execution_count": 729,
   "id": "9548c0c1",
   "metadata": {},
   "outputs": [
    {
     "data": {
      "application/vnd.microsoft.datawrangler.viewer.v0+json": {
       "columns": [
        {
         "name": "index",
         "rawType": "int64",
         "type": "integer"
        },
        {
         "name": "CustomerID",
         "rawType": "int64",
         "type": "integer"
        },
        {
         "name": "Age",
         "rawType": "int64",
         "type": "integer"
        },
        {
         "name": "Gender",
         "rawType": "object",
         "type": "string"
        },
        {
         "name": "Tenure",
         "rawType": "int64",
         "type": "integer"
        },
        {
         "name": "MonthlyCharges",
         "rawType": "float64",
         "type": "float"
        },
        {
         "name": "ContractType",
         "rawType": "object",
         "type": "string"
        },
        {
         "name": "InternetService",
         "rawType": "object",
         "type": "string"
        },
        {
         "name": "TotalCharges",
         "rawType": "float64",
         "type": "float"
        },
        {
         "name": "TechSupport",
         "rawType": "object",
         "type": "string"
        },
        {
         "name": "Churn",
         "rawType": "object",
         "type": "string"
        }
       ],
       "ref": "c42a4ca6-622b-4385-be5d-268e09d6a2ea",
       "rows": [
        [
         "0",
         "1",
         "49",
         "Male",
         "4",
         "88.35",
         "Month-to-Month",
         "Fiber Optic",
         "353.4",
         "Yes",
         "Yes"
        ],
        [
         "1",
         "2",
         "43",
         "Male",
         "0",
         "36.67",
         "Month-to-Month",
         "Fiber Optic",
         "0.0",
         "Yes",
         "Yes"
        ]
       ],
       "shape": {
        "columns": 10,
        "rows": 2
       }
      },
      "text/html": [
       "<div>\n",
       "<style scoped>\n",
       "    .dataframe tbody tr th:only-of-type {\n",
       "        vertical-align: middle;\n",
       "    }\n",
       "\n",
       "    .dataframe tbody tr th {\n",
       "        vertical-align: top;\n",
       "    }\n",
       "\n",
       "    .dataframe thead th {\n",
       "        text-align: right;\n",
       "    }\n",
       "</style>\n",
       "<table border=\"1\" class=\"dataframe\">\n",
       "  <thead>\n",
       "    <tr style=\"text-align: right;\">\n",
       "      <th></th>\n",
       "      <th>CustomerID</th>\n",
       "      <th>Age</th>\n",
       "      <th>Gender</th>\n",
       "      <th>Tenure</th>\n",
       "      <th>MonthlyCharges</th>\n",
       "      <th>ContractType</th>\n",
       "      <th>InternetService</th>\n",
       "      <th>TotalCharges</th>\n",
       "      <th>TechSupport</th>\n",
       "      <th>Churn</th>\n",
       "    </tr>\n",
       "  </thead>\n",
       "  <tbody>\n",
       "    <tr>\n",
       "      <th>0</th>\n",
       "      <td>1</td>\n",
       "      <td>49</td>\n",
       "      <td>Male</td>\n",
       "      <td>4</td>\n",
       "      <td>88.35</td>\n",
       "      <td>Month-to-Month</td>\n",
       "      <td>Fiber Optic</td>\n",
       "      <td>353.4</td>\n",
       "      <td>Yes</td>\n",
       "      <td>Yes</td>\n",
       "    </tr>\n",
       "    <tr>\n",
       "      <th>1</th>\n",
       "      <td>2</td>\n",
       "      <td>43</td>\n",
       "      <td>Male</td>\n",
       "      <td>0</td>\n",
       "      <td>36.67</td>\n",
       "      <td>Month-to-Month</td>\n",
       "      <td>Fiber Optic</td>\n",
       "      <td>0.0</td>\n",
       "      <td>Yes</td>\n",
       "      <td>Yes</td>\n",
       "    </tr>\n",
       "  </tbody>\n",
       "</table>\n",
       "</div>"
      ],
      "text/plain": [
       "   CustomerID  Age Gender  Tenure  MonthlyCharges    ContractType  \\\n",
       "0           1   49   Male       4           88.35  Month-to-Month   \n",
       "1           2   43   Male       0           36.67  Month-to-Month   \n",
       "\n",
       "  InternetService  TotalCharges TechSupport Churn  \n",
       "0     Fiber Optic         353.4         Yes   Yes  \n",
       "1     Fiber Optic           0.0         Yes   Yes  "
      ]
     },
     "execution_count": 729,
     "metadata": {},
     "output_type": "execute_result"
    }
   ],
   "source": [
    "df.head(2)"
   ]
  },
  {
   "cell_type": "code",
   "execution_count": 730,
   "id": "d3edf1a7",
   "metadata": {},
   "outputs": [
    {
     "data": {
      "application/vnd.microsoft.datawrangler.viewer.v0+json": {
       "columns": [
        {
         "name": "Churn",
         "rawType": "object",
         "type": "string"
        },
        {
         "name": "Age",
         "rawType": "float64",
         "type": "float"
        }
       ],
       "ref": "8a39bbd2-7fbb-4a19-8bb8-11cc92263eeb",
       "rows": [
        [
         "No",
         "43.48717948717949"
        ],
        [
         "Yes",
         "44.8312570781427"
        ]
       ],
       "shape": {
        "columns": 1,
        "rows": 2
       }
      },
      "text/plain": [
       "Churn\n",
       "No     43.487179\n",
       "Yes    44.831257\n",
       "Name: Age, dtype: float64"
      ]
     },
     "execution_count": 730,
     "metadata": {},
     "output_type": "execute_result"
    }
   ],
   "source": [
    "df.groupby(\"Churn\")[\"Age\"].mean()"
   ]
  },
  {
   "cell_type": "markdown",
   "id": "d243e5ad",
   "metadata": {},
   "source": [
    "At the lower terms we can see that the monthly charge average decreases"
   ]
  },
  {
   "cell_type": "code",
   "execution_count": 731,
   "id": "ccbc7a7e",
   "metadata": {},
   "outputs": [
    {
     "data": {
      "image/png": "[encoded data removed]",
      "text/plain": [
       "<Figure size 640x480 with 1 Axes>"
      ]
     },
     "metadata": {},
     "output_type": "display_data"
    }
   ],
   "source": [
    "df.groupby(\"ContractType\")[\"MonthlyCharges\"].mean().plot(kind=\"bar\")\n",
    "plt.title(\"Average Monthly Payment by Contract Type\")\n",
    "plt.ylabel(\"Mean Price\")\n",
    "plt.xlabel(\"Contract Type\")\n",
    "plt.show()"
   ]
  },
  {
   "cell_type": "code",
   "execution_count": 732,
   "id": "254ccde1",
   "metadata": {},
   "outputs": [
    {
     "data": {
      "image/png": "[encoded data removed]",
      "text/plain": [
       "<Figure size 640x480 with 1 Axes>"
      ]
     },
     "metadata": {},
     "output_type": "display_data"
    }
   ],
   "source": [
    "plt.hist(df[\"MonthlyCharges\"])\n",
    "plt.title(\"Histogram of Monthly Charges\")\n",
    "plt.show()"
   ]
  },
  {
   "cell_type": "code",
   "execution_count": 733,
   "id": "7b4f145e",
   "metadata": {},
   "outputs": [
    {
     "data": {
      "image/png": "[encoded data removed]",
      "text/plain": [
       "<Figure size 640x480 with 1 Axes>"
      ]
     },
     "metadata": {},
     "output_type": "display_data"
    }
   ],
   "source": [
    "plt.hist(df[\"Tenure\"])\n",
    "plt.title(\"Histogram of Tenure\")\n",
    "plt.show()"
   ]
  },
  {
   "cell_type": "markdown",
   "id": "9ee7b570",
   "metadata": {},
   "source": [
    "## Feature engineering"
   ]
  },
  {
   "cell_type": "code",
   "execution_count": 734,
   "id": "27066a22",
   "metadata": {},
   "outputs": [
    {
     "data": {
      "text/plain": [
       "Index(['CustomerID', 'Age', 'Gender', 'Tenure', 'MonthlyCharges',\n",
       "       'ContractType', 'InternetService', 'TotalCharges', 'TechSupport',\n",
       "       'Churn'],\n",
       "      dtype='object')"
      ]
     },
     "execution_count": 734,
     "metadata": {},
     "output_type": "execute_result"
    }
   ],
   "source": [
    "df.columns"
   ]
  },
  {
   "cell_type": "code",
   "execution_count": 735,
   "id": "e3a1e07d",
   "metadata": {},
   "outputs": [
    {
     "data": {
      "application/vnd.microsoft.datawrangler.viewer.v0+json": {
       "columns": [
        {
         "name": "index",
         "rawType": "int64",
         "type": "integer"
        },
        {
         "name": "CustomerID",
         "rawType": "int64",
         "type": "integer"
        },
        {
         "name": "Age",
         "rawType": "int64",
         "type": "integer"
        },
        {
         "name": "Gender",
         "rawType": "object",
         "type": "string"
        },
        {
         "name": "Tenure",
         "rawType": "int64",
         "type": "integer"
        },
        {
         "name": "MonthlyCharges",
         "rawType": "float64",
         "type": "float"
        },
        {
         "name": "ContractType",
         "rawType": "object",
         "type": "string"
        },
        {
         "name": "InternetService",
         "rawType": "object",
         "type": "string"
        },
        {
         "name": "TotalCharges",
         "rawType": "float64",
         "type": "float"
        },
        {
         "name": "TechSupport",
         "rawType": "object",
         "type": "string"
        },
        {
         "name": "Churn",
         "rawType": "object",
         "type": "string"
        }
       ],
       "ref": "6bd2a4aa-50d3-4b17-8085-87043d8f87cd",
       "rows": [
        [
         "0",
         "1",
         "49",
         "Male",
         "4",
         "88.35",
         "Month-to-Month",
         "Fiber Optic",
         "353.4",
         "Yes",
         "Yes"
        ]
       ],
       "shape": {
        "columns": 10,
        "rows": 1
       }
      },
      "text/html": [
       "<div>\n",
       "<style scoped>\n",
       "    .dataframe tbody tr th:only-of-type {\n",
       "        vertical-align: middle;\n",
       "    }\n",
       "\n",
       "    .dataframe tbody tr th {\n",
       "        vertical-align: top;\n",
       "    }\n",
       "\n",
       "    .dataframe thead th {\n",
       "        text-align: right;\n",
       "    }\n",
       "</style>\n",
       "<table border=\"1\" class=\"dataframe\">\n",
       "  <thead>\n",
       "    <tr style=\"text-align: right;\">\n",
       "      <th></th>\n",
       "      <th>CustomerID</th>\n",
       "      <th>Age</th>\n",
       "      <th>Gender</th>\n",
       "      <th>Tenure</th>\n",
       "      <th>MonthlyCharges</th>\n",
       "      <th>ContractType</th>\n",
       "      <th>InternetService</th>\n",
       "      <th>TotalCharges</th>\n",
       "      <th>TechSupport</th>\n",
       "      <th>Churn</th>\n",
       "    </tr>\n",
       "  </thead>\n",
       "  <tbody>\n",
       "    <tr>\n",
       "      <th>0</th>\n",
       "      <td>1</td>\n",
       "      <td>49</td>\n",
       "      <td>Male</td>\n",
       "      <td>4</td>\n",
       "      <td>88.35</td>\n",
       "      <td>Month-to-Month</td>\n",
       "      <td>Fiber Optic</td>\n",
       "      <td>353.4</td>\n",
       "      <td>Yes</td>\n",
       "      <td>Yes</td>\n",
       "    </tr>\n",
       "  </tbody>\n",
       "</table>\n",
       "</div>"
      ],
      "text/plain": [
       "   CustomerID  Age Gender  Tenure  MonthlyCharges    ContractType  \\\n",
       "0           1   49   Male       4           88.35  Month-to-Month   \n",
       "\n",
       "  InternetService  TotalCharges TechSupport Churn  \n",
       "0     Fiber Optic         353.4         Yes   Yes  "
      ]
     },
     "execution_count": 735,
     "metadata": {},
     "output_type": "execute_result"
    }
   ],
   "source": [
    "df.head(1)"
   ]
  },
  {
   "cell_type": "markdown",
   "id": "af7f2f1a",
   "metadata": {},
   "source": [
    "### Encode Features"
   ]
  },
  {
   "cell_type": "code",
   "execution_count": 736,
   "id": "3cbb3b12",
   "metadata": {},
   "outputs": [],
   "source": [
    "#x   1 Female and 0 Male\n",
    "x = df[[\"Age\", \"Gender\", \"Tenure\", \"MonthlyCharges\"]]\n",
    "x[\"Gender\"] = x[\"Gender\"].apply(lambda x: 1 if x == \"Female\" else 0)\n",
    "\n",
    "y = df[[\"Churn\"]]\n",
    "y[\"Churn\"] = y[\"Churn\"].apply(lambda x: 1 if x == \"Yes\" else 0)"
   ]
  },
  {
   "cell_type": "code",
   "execution_count": 737,
   "id": "3971c058",
   "metadata": {},
   "outputs": [
    {
     "data": {
      "text/plain": [
       "numpy.int64"
      ]
     },
     "execution_count": 737,
     "metadata": {},
     "output_type": "execute_result"
    }
   ],
   "source": [
    "type(x[\"Gender\"][0])"
   ]
  },
  {
   "cell_type": "code",
   "execution_count": 738,
   "id": "55823573",
   "metadata": {},
   "outputs": [
    {
     "data": {
      "text/plain": [
       "numpy.int64"
      ]
     },
     "execution_count": 738,
     "metadata": {},
     "output_type": "execute_result"
    }
   ],
   "source": [
    "type(y[\"Churn\"][0])"
   ]
  },
  {
   "cell_type": "code",
   "execution_count": 739,
   "id": "d73ed4c8",
   "metadata": {},
   "outputs": [
    {
     "data": {
      "application/vnd.microsoft.datawrangler.viewer.v0+json": {
       "columns": [
        {
         "name": "index",
         "rawType": "int64",
         "type": "integer"
        },
        {
         "name": "Age",
         "rawType": "int64",
         "type": "integer"
        },
        {
         "name": "Gender",
         "rawType": "int64",
         "type": "integer"
        },
        {
         "name": "Tenure",
         "rawType": "int64",
         "type": "integer"
        },
        {
         "name": "MonthlyCharges",
         "rawType": "float64",
         "type": "float"
        }
       ],
       "ref": "19b4e1c6-be91-45be-b4fa-56ddf2a9cf5e",
       "rows": [
        [
         "0",
         "49",
         "0",
         "4",
         "88.35"
        ],
        [
         "1",
         "43",
         "0",
         "0",
         "36.67"
        ],
        [
         "2",
         "51",
         "1",
         "2",
         "63.79"
        ],
        [
         "3",
         "60",
         "1",
         "8",
         "102.34"
        ],
        [
         "4",
         "42",
         "0",
         "32",
         "69.01"
        ],
        [
         "5",
         "42",
         "1",
         "16",
         "119.75"
        ],
        [
         "6",
         "60",
         "0",
         "14",
         "80.32"
        ],
        [
         "7",
         "52",
         "1",
         "6",
         "58.9"
        ],
        [
         "8",
         "40",
         "1",
         "53",
         "49.81"
        ],
        [
         "9",
         "50",
         "1",
         "10",
         "61.55"
        ],
        [
         "10",
         "40",
         "1",
         "1",
         "63.53"
        ],
        [
         "11",
         "40",
         "1",
         "19",
         "36.18"
        ],
        [
         "12",
         "47",
         "0",
         "2",
         "63.26"
        ],
        [
         "13",
         "25",
         "1",
         "8",
         "71.78"
        ],
        [
         "14",
         "27",
         "0",
         "14",
         "95.05"
        ],
        [
         "15",
         "39",
         "1",
         "41",
         "89.11"
        ],
        [
         "16",
         "34",
         "1",
         "13",
         "93.79"
        ],
        [
         "17",
         "48",
         "1",
         "24",
         "30.75"
        ],
        [
         "18",
         "35",
         "0",
         "98",
         "49.59"
        ],
        [
         "19",
         "30",
         "1",
         "2",
         "89.55"
        ],
        [
         "20",
         "59",
         "1",
         "6",
         "73.56"
        ],
        [
         "21",
         "42",
         "1",
         "10",
         "30.48"
        ],
        [
         "22",
         "45",
         "0",
         "10",
         "102.4"
        ],
        [
         "23",
         "30",
         "0",
         "10",
         "99.55"
        ],
        [
         "24",
         "39",
         "0",
         "47",
         "79.36"
        ],
        [
         "25",
         "46",
         "0",
         "25",
         "35.98"
        ],
        [
         "26",
         "33",
         "1",
         "18",
         "98.99"
        ],
        [
         "27",
         "48",
         "0",
         "7",
         "82.53"
        ],
        [
         "28",
         "38",
         "1",
         "34",
         "100.38"
        ],
        [
         "29",
         "42",
         "0",
         "62",
         "97.66"
        ],
        [
         "30",
         "38",
         "0",
         "34",
         "102.27"
        ],
        [
         "31",
         "63",
         "1",
         "0",
         "76.62"
        ],
        [
         "32",
         "44",
         "1",
         "20",
         "42.63"
        ],
        [
         "33",
         "34",
         "1",
         "1",
         "90.4"
        ],
        [
         "34",
         "53",
         "1",
         "5",
         "85.84"
        ],
        [
         "35",
         "32",
         "1",
         "1",
         "96.8"
        ],
        [
         "36",
         "47",
         "0",
         "18",
         "45.29"
        ],
        [
         "37",
         "25",
         "1",
         "23",
         "47.55"
        ],
        [
         "38",
         "31",
         "1",
         "2",
         "110.14"
        ],
        [
         "39",
         "46",
         "1",
         "9",
         "97.5"
        ],
        [
         "40",
         "52",
         "0",
         "12",
         "111.74"
        ],
        [
         "41",
         "46",
         "1",
         "9",
         "98.28"
        ],
        [
         "42",
         "43",
         "0",
         "2",
         "83.74"
        ],
        [
         "43",
         "41",
         "0",
         "10",
         "88.87"
        ],
        [
         "44",
         "30",
         "0",
         "27",
         "110.02"
        ],
        [
         "45",
         "37",
         "0",
         "1",
         "82.09"
        ],
        [
         "46",
         "40",
         "1",
         "1",
         "86.92"
        ],
        [
         "47",
         "55",
         "1",
         "8",
         "44.08"
        ],
        [
         "48",
         "48",
         "1",
         "56",
         "72.65"
        ],
        [
         "49",
         "27",
         "0",
         "22",
         "94.48"
        ]
       ],
       "shape": {
        "columns": 4,
        "rows": 1000
       }
      },
      "text/html": [
       "<div>\n",
       "<style scoped>\n",
       "    .dataframe tbody tr th:only-of-type {\n",
       "        vertical-align: middle;\n",
       "    }\n",
       "\n",
       "    .dataframe tbody tr th {\n",
       "        vertical-align: top;\n",
       "    }\n",
       "\n",
       "    .dataframe thead th {\n",
       "        text-align: right;\n",
       "    }\n",
       "</style>\n",
       "<table border=\"1\" class=\"dataframe\">\n",
       "  <thead>\n",
       "    <tr style=\"text-align: right;\">\n",
       "      <th></th>\n",
       "      <th>Age</th>\n",
       "      <th>Gender</th>\n",
       "      <th>Tenure</th>\n",
       "      <th>MonthlyCharges</th>\n",
       "    </tr>\n",
       "  </thead>\n",
       "  <tbody>\n",
       "    <tr>\n",
       "      <th>0</th>\n",
       "      <td>49</td>\n",
       "      <td>0</td>\n",
       "      <td>4</td>\n",
       "      <td>88.35</td>\n",
       "    </tr>\n",
       "    <tr>\n",
       "      <th>1</th>\n",
       "      <td>43</td>\n",
       "      <td>0</td>\n",
       "      <td>0</td>\n",
       "      <td>36.67</td>\n",
       "    </tr>\n",
       "    <tr>\n",
       "      <th>2</th>\n",
       "      <td>51</td>\n",
       "      <td>1</td>\n",
       "      <td>2</td>\n",
       "      <td>63.79</td>\n",
       "    </tr>\n",
       "    <tr>\n",
       "      <th>3</th>\n",
       "      <td>60</td>\n",
       "      <td>1</td>\n",
       "      <td>8</td>\n",
       "      <td>102.34</td>\n",
       "    </tr>\n",
       "    <tr>\n",
       "      <th>4</th>\n",
       "      <td>42</td>\n",
       "      <td>0</td>\n",
       "      <td>32</td>\n",
       "      <td>69.01</td>\n",
       "    </tr>\n",
       "    <tr>\n",
       "      <th>...</th>\n",
       "      <td>...</td>\n",
       "      <td>...</td>\n",
       "      <td>...</td>\n",
       "      <td>...</td>\n",
       "    </tr>\n",
       "    <tr>\n",
       "      <th>995</th>\n",
       "      <td>42</td>\n",
       "      <td>0</td>\n",
       "      <td>41</td>\n",
       "      <td>37.14</td>\n",
       "    </tr>\n",
       "    <tr>\n",
       "      <th>996</th>\n",
       "      <td>62</td>\n",
       "      <td>0</td>\n",
       "      <td>9</td>\n",
       "      <td>80.93</td>\n",
       "    </tr>\n",
       "    <tr>\n",
       "      <th>997</th>\n",
       "      <td>51</td>\n",
       "      <td>1</td>\n",
       "      <td>15</td>\n",
       "      <td>111.72</td>\n",
       "    </tr>\n",
       "    <tr>\n",
       "      <th>998</th>\n",
       "      <td>39</td>\n",
       "      <td>0</td>\n",
       "      <td>68</td>\n",
       "      <td>65.67</td>\n",
       "    </tr>\n",
       "    <tr>\n",
       "      <th>999</th>\n",
       "      <td>50</td>\n",
       "      <td>0</td>\n",
       "      <td>1</td>\n",
       "      <td>56.67</td>\n",
       "    </tr>\n",
       "  </tbody>\n",
       "</table>\n",
       "<p>1000 rows × 4 columns</p>\n",
       "</div>"
      ],
      "text/plain": [
       "     Age  Gender  Tenure  MonthlyCharges\n",
       "0     49       0       4           88.35\n",
       "1     43       0       0           36.67\n",
       "2     51       1       2           63.79\n",
       "3     60       1       8          102.34\n",
       "4     42       0      32           69.01\n",
       "..   ...     ...     ...             ...\n",
       "995   42       0      41           37.14\n",
       "996   62       0       9           80.93\n",
       "997   51       1      15          111.72\n",
       "998   39       0      68           65.67\n",
       "999   50       0       1           56.67\n",
       "\n",
       "[1000 rows x 4 columns]"
      ]
     },
     "execution_count": 739,
     "metadata": {},
     "output_type": "execute_result"
    }
   ],
   "source": [
    "x"
   ]
  },
  {
   "cell_type": "markdown",
   "id": "951073be",
   "metadata": {},
   "source": [
    "## Train Test Split"
   ]
  },
  {
   "cell_type": "code",
   "execution_count": 740,
   "id": "20921e18",
   "metadata": {},
   "outputs": [],
   "source": [
    "x_train, x_test, y_train, y_test = train_test_split(x, y, test_size=0.2)"
   ]
  },
  {
   "cell_type": "markdown",
   "id": "44f47975",
   "metadata": {},
   "source": [
    "### Feature Scaling"
   ]
  },
  {
   "cell_type": "code",
   "execution_count": 741,
   "id": "29ed0b69",
   "metadata": {},
   "outputs": [],
   "source": [
    "scaler = StandardScaler()"
   ]
  },
  {
   "cell_type": "code",
   "execution_count": 742,
   "id": "7d5bed93",
   "metadata": {},
   "outputs": [],
   "source": [
    "x_train = scaler.fit_transform(x_train)\n",
    "x_test = scaler.fit_transform(x_test)"
   ]
  },
  {
   "cell_type": "code",
   "execution_count": 743,
   "id": "6ea3b3ec",
   "metadata": {},
   "outputs": [
    {
     "data": {
      "text/plain": [
       "['scaler.pkl']"
      ]
     },
     "execution_count": 743,
     "metadata": {},
     "output_type": "execute_result"
    }
   ],
   "source": [
    "joblib.dump(scaler, \"scaler.pkl\")"
   ]
  },
  {
   "cell_type": "markdown",
   "id": "fefdad41",
   "metadata": {},
   "source": [
    "### Model Evaluation Function"
   ]
  },
  {
   "cell_type": "code",
   "execution_count": 744,
   "id": "ef7a8951",
   "metadata": {},
   "outputs": [],
   "source": [
    "# Model Evaluation Function\n",
    "def model_performance(name, model, x_test, y_test, metrics_score, model_score):\n",
    "    y_pred = model.predict(x_test)\n",
    "    acc = accuracy_score(y_test, y_pred)\n",
    "    print(f\"{name} Accuracy: {acc:.4f}\")\n",
    "    print(classification_report(y_test, y_pred))\n",
    "    ConfusionMatrixDisplay.from_estimator(model, x_test, y_test)\n",
    "    plt.title(f\"Confusion Matrix: {name}\")\n",
    "    plt.show()\n",
    "\n",
    "    if hasattr(model, \"predict_proba\"):\n",
    "        y_probs = model.predict_proba(x_test)[:, 1]\n",
    "        fpr, tpr, _ = roc_curve(y_test, y_probs)\n",
    "        roc_auc = auc(fpr, tpr)\n",
    "        plt.plot(fpr, tpr, label=f'{name} AUC = {roc_auc:.2f}')\n",
    "        plt.plot([0, 1], [0, 1], '--r')\n",
    "        plt.xlabel(\"False Positive Rate\")\n",
    "        plt.ylabel(\"True Positive Rate\")\n",
    "        plt.title(f\"ROC Curve: {name}\")\n",
    "        plt.legend()\n",
    "        plt.show()\n",
    "\n",
    "    # Saving the accuracy in the results dictionary for comparison \n",
    "    metrics_score[name] = acc\n",
    "    model_score[name] = model\n",
    "\n",
    "# Model Comparison Dictionary\n",
    "results = {}\n",
    "best_models = {}"
   ]
  },
  {
   "cell_type": "markdown",
   "id": "d8bfd4a7",
   "metadata": {},
   "source": [
    "### SMOTE, Synrhetic Minority Over-sampling Technique\n",
    "Note: The data is highly imbalanced.\n",
    "- 883 customers turned (churn = 1)\n",
    "- 117 non-churned (churn = 0)\n",
    "\n",
    "After running the models and reviewing the plot 'actual vs predicted', I decided to use SMOTE. The model is learning to just predict \"Yes\" every time, which actually gives the illusion of high accuracy, because: \n",
    "1. It fails to detect churned customers accurately \n",
    "2. Precision, recall, and F1-score for the minority class suffer \n",
    "3. The model becomes too biased.\n",
    "\n",
    "SMOTE balances the dataset by generating new synthetic samples for the minority class. \n",
    "- It selects a minority class point (e.g. a churn=0 sample)\n",
    "- Then finds its k nearest neighbours (by default k=5)\n",
    "- And creates new, similar data points by interpolating between them\n",
    "- This helps the model learn the decision boundary better"
   ]
  },
  {
   "cell_type": "code",
   "execution_count": 745,
   "id": "f44abb25",
   "metadata": {},
   "outputs": [],
   "source": [
    "sm = SMOTE(random_state=42)\n",
    "x_train_resampled, y_train_resampled = sm.fit_resample(x_train, y_train)"
   ]
  },
  {
   "cell_type": "markdown",
   "id": "78d4afbe",
   "metadata": {},
   "source": [
    "### Logistic Regression"
   ]
  },
  {
   "cell_type": "code",
   "execution_count": 746,
   "id": "50a2b1ce",
   "metadata": {},
   "outputs": [
    {
     "name": "stdout",
     "output_type": "stream",
     "text": [
      "Logistic Regression Accuracy: 0.8600\n",
      "              precision    recall  f1-score   support\n",
      "\n",
      "           0       0.50      0.04      0.07        28\n",
      "           1       0.86      0.99      0.92       172\n",
      "\n",
      "    accuracy                           0.86       200\n",
      "   macro avg       0.68      0.51      0.50       200\n",
      "weighted avg       0.81      0.86      0.80       200\n",
      "\n"
     ]
    },
    {
     "data": {
      "image/png": "[encoded data removed]",
      "text/plain": [
       "<Figure size 640x480 with 2 Axes>"
      ]
     },
     "metadata": {},
     "output_type": "display_data"
    },
    {
     "data": {
      "image/png": "[encoded data removed]",
      "text/plain": [
       "<Figure size 640x480 with 1 Axes>"
      ]
     },
     "metadata": {},
     "output_type": "display_data"
    }
   ],
   "source": [
    "# Logistic Regression\n",
    "log_reg = LogisticRegression()\n",
    "log_reg.fit(x_train, y_train)\n",
    "model_performance(\"Logistic Regression\", log_reg, x_test, y_test, results, best_models)"
   ]
  },
  {
   "cell_type": "markdown",
   "id": "dde71ba9",
   "metadata": {},
   "source": [
    "### KNN"
   ]
  },
  {
   "cell_type": "code",
   "execution_count": 747,
   "id": "de4ab0fe",
   "metadata": {},
   "outputs": [
    {
     "name": "stdout",
     "output_type": "stream",
     "text": [
      "KNN Accuracy: 0.8550\n",
      "              precision    recall  f1-score   support\n",
      "\n",
      "           0       0.40      0.07      0.12        28\n",
      "           1       0.87      0.98      0.92       172\n",
      "\n",
      "    accuracy                           0.85       200\n",
      "   macro avg       0.63      0.53      0.52       200\n",
      "weighted avg       0.80      0.85      0.81       200\n",
      "\n"
     ]
    },
    {
     "data": {
      "image/png": "[encoded data removed]",
      "text/plain": [
       "<Figure size 640x480 with 2 Axes>"
      ]
     },
     "metadata": {},
     "output_type": "display_data"
    },
    {
     "data": {
      "image/png": "[encoded data removed]",
      "text/plain": [
       "<Figure size 640x480 with 1 Axes>"
      ]
     },
     "metadata": {},
     "output_type": "display_data"
    }
   ],
   "source": [
    "# KNN\n",
    "param_knn = {\"n_neighbors\": [3, 5, 7, 9], \"weights\": [\"uniform\", \"distance\"]}\n",
    "grid_knn = GridSearchCV(KNeighborsClassifier(), param_knn, cv=5)\n",
    "grid_knn.fit(x_train, y_train)\n",
    "model_performance(\"KNN\", grid_knn.best_estimator_, x_test, y_test, results, best_models)"
   ]
  },
  {
   "cell_type": "markdown",
   "id": "46bd55d6",
   "metadata": {},
   "source": [
    "### SVM "
   ]
  },
  {
   "cell_type": "code",
   "execution_count": 748,
   "id": "d3dfe580",
   "metadata": {},
   "outputs": [
    {
     "name": "stdout",
     "output_type": "stream",
     "text": [
      "SVM Accuracy: 0.8600\n",
      "              precision    recall  f1-score   support\n",
      "\n",
      "           0       0.00      0.00      0.00        28\n",
      "           1       0.86      1.00      0.92       172\n",
      "\n",
      "    accuracy                           0.86       200\n",
      "   macro avg       0.43      0.50      0.46       200\n",
      "weighted avg       0.74      0.86      0.80       200\n",
      "\n"
     ]
    },
    {
     "data": {
      "image/png": "[encoded data removed]",
      "text/plain": [
       "<Figure size 640x480 with 2 Axes>"
      ]
     },
     "metadata": {},
     "output_type": "display_data"
    },
    {
     "data": {
      "image/png": "[encoded data removed]",
      "text/plain": [
       "<Figure size 640x480 with 1 Axes>"
      ]
     },
     "metadata": {},
     "output_type": "display_data"
    }
   ],
   "source": [
    "param_svc = {\"C\": [0.01, 0.1, 0.5, 1], \"kernel\":[\"linear\", \"rbf\"]}\n",
    "grid_svc = GridSearchCV(SVC(probability=True), param_svc, cv=5)\n",
    "grid_svc.fit(x_train, y_train)\n",
    "model_performance(\"SVM\", grid_svc.best_estimator_, x_test, y_test, results, best_models)"
   ]
  },
  {
   "cell_type": "markdown",
   "id": "d58c68c5",
   "metadata": {},
   "source": [
    "### Decision Tree"
   ]
  },
  {
   "cell_type": "code",
   "execution_count": 749,
   "id": "0e70a53b",
   "metadata": {},
   "outputs": [
    {
     "name": "stdout",
     "output_type": "stream",
     "text": [
      "Decision Tree Accuracy: 0.8150\n",
      "              precision    recall  f1-score   support\n",
      "\n",
      "           0       0.26      0.18      0.21        28\n",
      "           1       0.87      0.92      0.90       172\n",
      "\n",
      "    accuracy                           0.81       200\n",
      "   macro avg       0.57      0.55      0.55       200\n",
      "weighted avg       0.79      0.81      0.80       200\n",
      "\n"
     ]
    },
    {
     "data": {
      "image/png": "[encoded data removed]",
      "text/plain": [
       "<Figure size 640x480 with 2 Axes>"
      ]
     },
     "metadata": {},
     "output_type": "display_data"
    },
    {
     "data": {
      "image/png": "[encoded data removed]",
      "text/plain": [
       "<Figure size 640x480 with 1 Axes>"
      ]
     },
     "metadata": {},
     "output_type": "display_data"
    }
   ],
   "source": [
    "# Decision Tree\n",
    "param_tree = {\n",
    "    \"criterion\": [\"gini\", \"entropy\"], \n",
    "    \"splitter\": [\"best\", \"random\"], \n",
    "    \"max_depth\" : [None, 10, 20, 30], \n",
    "    \"min_samples_split\" : [2,5,10], \n",
    "    \"min_samples_leaf\": [1,2,4]\n",
    "}\n",
    "grid_tree = GridSearchCV(DecisionTreeClassifier(), param_tree, cv=5)\n",
    "grid_tree.fit(x_train, y_train)\n",
    "model_performance(\"Decision Tree\", grid_tree.best_estimator_, x_test, y_test, results, best_models)"
   ]
  },
  {
   "cell_type": "markdown",
   "id": "295acf08",
   "metadata": {},
   "source": [
    "### Random Forest"
   ]
  },
  {
   "cell_type": "code",
   "execution_count": 750,
   "id": "62968357",
   "metadata": {},
   "outputs": [
    {
     "name": "stdout",
     "output_type": "stream",
     "text": [
      "Decision Tree Accuracy: 0.8150\n",
      "              precision    recall  f1-score   support\n",
      "\n",
      "           0       0.26      0.18      0.21        28\n",
      "           1       0.87      0.92      0.90       172\n",
      "\n",
      "    accuracy                           0.81       200\n",
      "   macro avg       0.57      0.55      0.55       200\n",
      "weighted avg       0.79      0.81      0.80       200\n",
      "\n"
     ]
    },
    {
     "data": {
      "image/png": "[encoded data removed]",
      "text/plain": [
       "<Figure size 640x480 with 2 Axes>"
      ]
     },
     "metadata": {},
     "output_type": "display_data"
    },
    {
     "data": {
      "image/png": "[encoded data removed]",
      "text/plain": [
       "<Figure size 640x480 with 1 Axes>"
      ]
     },
     "metadata": {},
     "output_type": "display_data"
    }
   ],
   "source": [
    "param_rfc = {\n",
    "    \"n_estimators\" : [32, 64, 128, 256], \n",
    "    \"max_features\" : [2,3,4], \n",
    "    \"bootstrap\" : [True, False]}\n",
    "\n",
    "grid_rfc = GridSearchCV(RandomForestClassifier(), param_rfc, cv=5)\n",
    "grid_rfc.fit(x_train, y_train)\n",
    "model_performance(\"Decision Tree\", grid_tree.best_estimator_, x_test, y_test, results, best_models)"
   ]
  },
  {
   "cell_type": "code",
   "execution_count": 751,
   "id": "97b068e1",
   "metadata": {},
   "outputs": [
    {
     "name": "stdout",
     "output_type": "stream",
     "text": [
      "XGBoost Accuracy: 0.8250\n",
      "              precision    recall  f1-score   support\n",
      "\n",
      "           0       0.18      0.07      0.10        28\n",
      "           1       0.86      0.95      0.90       172\n",
      "\n",
      "    accuracy                           0.82       200\n",
      "   macro avg       0.52      0.51      0.50       200\n",
      "weighted avg       0.77      0.82      0.79       200\n",
      "\n"
     ]
    },
    {
     "data": {
      "image/png": "[encoded data removed]",
      "text/plain": [
       "<Figure size 640x480 with 2 Axes>"
      ]
     },
     "metadata": {},
     "output_type": "display_data"
    },
    {
     "data": {
      "image/png": "[encoded data removed]",
      "text/plain": [
       "<Figure size 640x480 with 1 Axes>"
      ]
     },
     "metadata": {},
     "output_type": "display_data"
    }
   ],
   "source": [
    "xgb = XGBClassifier(scale_pos_weight=1, use_label_encoder=False, eval_metric='logloss')\n",
    "xgb.fit(x_train, y_train)\n",
    "model_performance(\"XGBoost\", xgb, x_test, y_test, results, best_models)"
   ]
  },
  {
   "cell_type": "code",
   "execution_count": 752,
   "id": "aaf4f56e",
   "metadata": {},
   "outputs": [
    {
     "name": "stdout",
     "output_type": "stream",
     "text": [
      "Saving the best model: Logistic Regression with accuracy 0.8600\n"
     ]
    },
    {
     "data": {
      "text/plain": [
       "['model.pkl']"
      ]
     },
     "execution_count": 752,
     "metadata": {},
     "output_type": "execute_result"
    }
   ],
   "source": [
    "# Save best model\n",
    "best_model_name = max(results, key=results.get)\n",
    "best_model = best_models[best_model_name]\n",
    "print(f\"Saving the best model: {best_model_name} with accuracy {results[best_model_name]:.4f}\")\n",
    "joblib.dump(best_model, \"model.pkl\")"
   ]
  },
  {
   "cell_type": "markdown",
   "id": "a23a17b3",
   "metadata": {},
   "source": [
    "### Models Comparision"
   ]
  },
  {
   "cell_type": "code",
   "execution_count": 753,
   "id": "dd0c78df",
   "metadata": {},
   "outputs": [
    {
     "data": {
      "image/png": "[encoded data removed]",
      "text/plain": [
       "<Figure size 1000x500 with 1 Axes>"
      ]
     },
     "metadata": {},
     "output_type": "display_data"
    }
   ],
   "source": [
    "# Plot Model Comparison\n",
    "plt.figure(figsize=(10, 5))\n",
    "plt.bar(results.keys(), results.values(), color=\"skyblue\")\n",
    "plt.ylabel(\"Accuracy\")\n",
    "plt.title(\"Model Accuracy Comparison\")\n",
    "plt.ylim(0.7, 1.0)\n",
    "plt.xticks(rotation=45)\n",
    "plt.tight_layout()\n",
    "plt.show()"
   ]
  },
  {
   "cell_type": "code",
   "execution_count": 754,
   "id": "5cf65a7a",
   "metadata": {},
   "outputs": [
    {
     "data": {
      "image/png": "[encoded data removed]",
      "text/plain": [
       "<Figure size 800x500 with 1 Axes>"
      ]
     },
     "metadata": {},
     "output_type": "display_data"
    }
   ],
   "source": [
    "# Make predictions with the best model\n",
    "y_pred = best_model.predict(x_test)\n",
    "\n",
    "# Flatten y_test to match dimensions\n",
    "y_test_flat = y_test.values.ravel()\n",
    "\n",
    "# Create a comparison DataFrame\n",
    "comparison_df = pd.DataFrame({\n",
    "    \"Actual\": y_test_flat,\n",
    "    \"Predicted\": y_pred\n",
    "})\n",
    "\n",
    "# Plot side-by-side counts\n",
    "plt.figure(figsize=(8, 5))\n",
    "sns.countplot(data=pd.melt(comparison_df), x=\"value\", hue=\"variable\", palette=\"Set2\")\n",
    "plt.title(\"Actual vs Predicted Churn Counts\")\n",
    "plt.xlabel(\"Churn (0 = No, 1 = Yes)\")\n",
    "plt.ylabel(\"Count\")\n",
    "plt.legend(title=\"\")\n",
    "plt.tight_layout()\n",
    "plt.show()"
   ]
  },
  {
   "cell_type": "code",
   "execution_count": 755,
   "id": "10b5ce16",
   "metadata": {},
   "outputs": [
    {
     "name": "stdout",
     "output_type": "stream",
     "text": [
      "{0: 2, 1: 198}\n"
     ]
    }
   ],
   "source": [
    "unique, counts = np.unique(y_pred, return_counts=True)\n",
    "print(dict(zip(unique, counts)))"
   ]
  },
  {
   "cell_type": "code",
   "execution_count": 756,
   "id": "edb6aa35",
   "metadata": {},
   "outputs": [
    {
     "name": "stdout",
     "output_type": "stream",
     "text": [
      "Actual distribution in test set:\n",
      " Churn\n",
      "1        172\n",
      "0         28\n",
      "Name: count, dtype: int64\n",
      "Predicted distribution:\n",
      " 1    198\n",
      "0      2\n",
      "Name: count, dtype: int64\n"
     ]
    }
   ],
   "source": [
    "print(\"Actual distribution in test set:\\n\", y_test.value_counts())\n",
    "print(\"Predicted distribution:\\n\", pd.Series(y_pred).value_counts())"
   ]
  },
  {
   "cell_type": "code",
   "execution_count": 757,
   "id": "77b50d7e",
   "metadata": {},
   "outputs": [
    {
     "name": "stdout",
     "output_type": "stream",
     "text": [
      "              precision    recall  f1-score   support\n",
      "\n",
      "           0     0.5000    0.0357    0.0667        28\n",
      "           1     0.8636    0.9942    0.9243       172\n",
      "\n",
      "    accuracy                         0.8600       200\n",
      "   macro avg     0.6818    0.5150    0.4955       200\n",
      "weighted avg     0.8127    0.8600    0.8043       200\n",
      "\n"
     ]
    }
   ],
   "source": [
    "print(classification_report(y_test, y_pred, digits=4))"
   ]
  }
 ],
 "metadata": {
  "kernelspec": {
   "display_name": "base",
   "language": "python",
   "name": "python3"
  },
  "language_info": {
   "codemirror_mode": {
    "name": "ipython",
    "version": 3
   },
   "file_extension": ".py",
   "mimetype": "text/x-python",
   "name": "python",
   "nbconvert_exporter": "python",
   "pygments_lexer": "ipython3",
   "version": "3.12.2"
  }
 },
 "nbformat": 4,
 "nbformat_minor": 5
}
